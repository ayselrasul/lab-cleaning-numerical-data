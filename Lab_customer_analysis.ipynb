{
 "cells": [
  {
   "cell_type": "markdown",
   "id": "15163039",
   "metadata": {},
   "source": [
    "## Import the necessary libraries"
   ]
  },
  {
   "cell_type": "code",
   "execution_count": 293,
   "id": "f6007576",
   "metadata": {},
   "outputs": [],
   "source": [
    "import pandas as pd\n",
    "import numpy as np\n",
    "import warnings\n",
    "warnings.filterwarnings('ignore')\n",
    "import matplotlib.pyplot as plt\n",
    "import seaborn as sns"
   ]
  },
  {
   "cell_type": "markdown",
   "id": "0cfffd77",
   "metadata": {},
   "source": [
    "## Load the we_fn_use_c_marketing_customer_value_analysis.csv into the variable customer_df"
   ]
  },
  {
   "cell_type": "code",
   "execution_count": 294,
   "id": "570e3ea1",
   "metadata": {},
   "outputs": [],
   "source": [
    "customer_df = pd.read_csv('files_for_lab/we_fn_use_c_marketing_customer_value_analysis.csv')"
   ]
  },
  {
   "cell_type": "code",
   "execution_count": 295,
   "id": "ae4ea407",
   "metadata": {},
   "outputs": [],
   "source": [
    "pd.set_option('display.max_rows', 200)\n",
    "pd.set_option('display.max_columns', None)"
   ]
  },
  {
   "cell_type": "markdown",
   "id": "5d52c438",
   "metadata": {},
   "source": [
    "## First look at its main features (head, shape, info)"
   ]
  },
  {
   "cell_type": "code",
   "execution_count": 296,
   "id": "c237fa0a",
   "metadata": {},
   "outputs": [
    {
     "data": {
      "text/plain": [
       "(9134, 24)"
      ]
     },
     "execution_count": 296,
     "metadata": {},
     "output_type": "execute_result"
    }
   ],
   "source": [
    "customer_df.shape"
   ]
  },
  {
   "cell_type": "code",
   "execution_count": 297,
   "id": "2997f706",
   "metadata": {},
   "outputs": [
    {
     "name": "stdout",
     "output_type": "stream",
     "text": [
      "<class 'pandas.core.frame.DataFrame'>\n",
      "RangeIndex: 9134 entries, 0 to 9133\n",
      "Data columns (total 24 columns):\n",
      " #   Column                         Non-Null Count  Dtype  \n",
      "---  ------                         --------------  -----  \n",
      " 0   Customer                       9134 non-null   object \n",
      " 1   State                          9134 non-null   object \n",
      " 2   Customer Lifetime Value        9134 non-null   float64\n",
      " 3   Response                       9134 non-null   object \n",
      " 4   Coverage                       9134 non-null   object \n",
      " 5   Education                      9134 non-null   object \n",
      " 6   Effective To Date              9134 non-null   object \n",
      " 7   EmploymentStatus               9134 non-null   object \n",
      " 8   Gender                         9134 non-null   object \n",
      " 9   Income                         9134 non-null   int64  \n",
      " 10  Location Code                  9134 non-null   object \n",
      " 11  Marital Status                 9134 non-null   object \n",
      " 12  Monthly Premium Auto           9134 non-null   int64  \n",
      " 13  Months Since Last Claim        9134 non-null   int64  \n",
      " 14  Months Since Policy Inception  9134 non-null   int64  \n",
      " 15  Number of Open Complaints      9134 non-null   int64  \n",
      " 16  Number of Policies             9134 non-null   int64  \n",
      " 17  Policy Type                    9134 non-null   object \n",
      " 18  Policy                         9134 non-null   object \n",
      " 19  Renew Offer Type               9134 non-null   object \n",
      " 20  Sales Channel                  9134 non-null   object \n",
      " 21  Total Claim Amount             9134 non-null   float64\n",
      " 22  Vehicle Class                  9134 non-null   object \n",
      " 23  Vehicle Size                   9134 non-null   object \n",
      "dtypes: float64(2), int64(6), object(16)\n",
      "memory usage: 1.7+ MB\n"
     ]
    }
   ],
   "source": [
    "customer_df.info()"
   ]
  },
  {
   "cell_type": "code",
   "execution_count": 298,
   "id": "ace1641d",
   "metadata": {},
   "outputs": [
    {
     "name": "stdout",
     "output_type": "stream",
     "text": [
      "Count of zeros in column  CUSTOMER  is :  0\n",
      "Count of zeros in column  STATE  is :  0\n",
      "Count of zeros in column  CUSTOMER LIFETIME VALUE  is :  0\n",
      "Count of zeros in column  RESPONSE  is :  0\n",
      "Count of zeros in column  COVERAGE  is :  0\n",
      "Count of zeros in column  EDUCATION  is :  0\n",
      "Count of zeros in column  EFFECTIVE TO DATE  is :  0\n",
      "Count of zeros in column  EMPLOYMENTSTATUS  is :  0\n",
      "Count of zeros in column  GENDER  is :  0\n",
      "Count of zeros in column  INCOME  is :  2317\n",
      "Count of zeros in column  LOCATION CODE  is :  0\n",
      "Count of zeros in column  MARITAL STATUS  is :  0\n",
      "Count of zeros in column  MONTHLY PREMIUM AUTO  is :  0\n",
      "Count of zeros in column  MONTHS SINCE LAST CLAIM  is :  314\n",
      "Count of zeros in column  MONTHS SINCE POLICY INCEPTION  is :  83\n",
      "Count of zeros in column  NUMBER OF OPEN COMPLAINTS  is :  7252\n",
      "Count of zeros in column  NUMBER OF POLICIES  is :  0\n",
      "Count of zeros in column  POLICY TYPE  is :  0\n",
      "Count of zeros in column  POLICY  is :  0\n",
      "Count of zeros in column  RENEW OFFER TYPE  is :  0\n",
      "Count of zeros in column  SALES CHANNEL  is :  0\n",
      "Count of zeros in column  TOTAL CLAIM AMOUNT  is :  0\n",
      "Count of zeros in column  VEHICLE CLASS  is :  0\n",
      "Count of zeros in column  VEHICLE SIZE  is :  0\n"
     ]
    }
   ],
   "source": [
    "# Count number of zeros in all columns of Dataframe\n",
    "\n",
    "for column_name in customer_df.columns:\n",
    "    column = customer_df[column_name]\n",
    "    count = (column == 0).sum()\n",
    "    print('Count of zeros in column ', column_name.upper(), ' is : ', count)"
   ]
  },
  {
   "cell_type": "markdown",
   "id": "df825733",
   "metadata": {},
   "source": [
    "## Rename the columns so they follow the PE8 (snake case)"
   ]
  },
  {
   "cell_type": "code",
   "execution_count": 299,
   "id": "eb3493a6",
   "metadata": {},
   "outputs": [],
   "source": [
    "customer_df.columns = map(str.lower,customer_df.columns)\n",
    "customer_df.columns = customer_df.columns.str.replace(' ','_')"
   ]
  },
  {
   "cell_type": "code",
   "execution_count": 300,
   "id": "a4feddd5",
   "metadata": {},
   "outputs": [
    {
     "data": {
      "text/plain": [
       "Index(['customer', 'state', 'customer_lifetime_value', 'response', 'coverage',\n",
       "       'education', 'effective_to_date', 'employmentstatus', 'gender',\n",
       "       'income', 'location_code', 'marital_status', 'monthly_premium_auto',\n",
       "       'months_since_last_claim', 'months_since_policy_inception',\n",
       "       'number_of_open_complaints', 'number_of_policies', 'policy_type',\n",
       "       'policy', 'renew_offer_type', 'sales_channel', 'total_claim_amount',\n",
       "       'vehicle_class', 'vehicle_size'],\n",
       "      dtype='object')"
      ]
     },
     "execution_count": 300,
     "metadata": {},
     "output_type": "execute_result"
    }
   ],
   "source": [
    "# Checking\n",
    "customer_df.columns"
   ]
  },
  {
   "cell_type": "markdown",
   "id": "508818d3",
   "metadata": {},
   "source": [
    "## Change effective to date column to datetime format"
   ]
  },
  {
   "cell_type": "code",
   "execution_count": 301,
   "id": "cce1c2bd",
   "metadata": {},
   "outputs": [],
   "source": [
    "customer_df['effective_to_date']= pd.to_datetime(customer_df['effective_to_date'])"
   ]
  },
  {
   "cell_type": "code",
   "execution_count": 302,
   "id": "68101034",
   "metadata": {},
   "outputs": [
    {
     "data": {
      "text/plain": [
       "0      2011-02-24\n",
       "1      2011-01-31\n",
       "2      2011-02-19\n",
       "3      2011-01-20\n",
       "4      2011-02-03\n",
       "          ...    \n",
       "9129   2011-02-10\n",
       "9130   2011-02-12\n",
       "9131   2011-02-06\n",
       "9132   2011-02-03\n",
       "9133   2011-02-14\n",
       "Name: effective_to_date, Length: 9134, dtype: datetime64[ns]"
      ]
     },
     "execution_count": 302,
     "metadata": {},
     "output_type": "execute_result"
    }
   ],
   "source": [
    "customer_df['effective_to_date'] ## Checking if the format changed"
   ]
  },
  {
   "cell_type": "markdown",
   "id": "5df4996b",
   "metadata": {},
   "source": [
    "## Check NaN values per column"
   ]
  },
  {
   "cell_type": "code",
   "execution_count": 303,
   "id": "7033a0e3",
   "metadata": {},
   "outputs": [
    {
     "data": {
      "text/plain": [
       "customer                         0\n",
       "state                            0\n",
       "customer_lifetime_value          0\n",
       "response                         0\n",
       "coverage                         0\n",
       "education                        0\n",
       "effective_to_date                0\n",
       "employmentstatus                 0\n",
       "gender                           0\n",
       "income                           0\n",
       "location_code                    0\n",
       "marital_status                   0\n",
       "monthly_premium_auto             0\n",
       "months_since_last_claim          0\n",
       "months_since_policy_inception    0\n",
       "number_of_open_complaints        0\n",
       "number_of_policies               0\n",
       "policy_type                      0\n",
       "policy                           0\n",
       "renew_offer_type                 0\n",
       "sales_channel                    0\n",
       "total_claim_amount               0\n",
       "vehicle_class                    0\n",
       "vehicle_size                     0\n",
       "dtype: int64"
      ]
     },
     "execution_count": 303,
     "metadata": {},
     "output_type": "execute_result"
    }
   ],
   "source": [
    "customer_df.isna().sum()"
   ]
  },
  {
   "cell_type": "markdown",
   "id": "cb7002db",
   "metadata": {},
   "source": [
    "##  Define a function that differentiates between continuous and discrete variables. Hint: A number of unique values might be useful. Store continuous data into a continuous variable and do the same for discrete and categorical."
   ]
  },
  {
   "cell_type": "code",
   "execution_count": 304,
   "id": "da08a0c9",
   "metadata": {},
   "outputs": [
    {
     "data": {
      "text/plain": [
       "customer                                 object\n",
       "state                                    object\n",
       "customer_lifetime_value                 float64\n",
       "response                                 object\n",
       "coverage                                 object\n",
       "education                                object\n",
       "effective_to_date                datetime64[ns]\n",
       "employmentstatus                         object\n",
       "gender                                   object\n",
       "income                                    int64\n",
       "location_code                            object\n",
       "marital_status                           object\n",
       "monthly_premium_auto                      int64\n",
       "months_since_last_claim                   int64\n",
       "months_since_policy_inception             int64\n",
       "number_of_open_complaints                 int64\n",
       "number_of_policies                        int64\n",
       "policy_type                              object\n",
       "policy                                   object\n",
       "renew_offer_type                         object\n",
       "sales_channel                            object\n",
       "total_claim_amount                      float64\n",
       "vehicle_class                            object\n",
       "vehicle_size                             object\n",
       "dtype: object"
      ]
     },
     "execution_count": 304,
     "metadata": {},
     "output_type": "execute_result"
    }
   ],
   "source": [
    "customer_df.dtypes"
   ]
  },
  {
   "cell_type": "code",
   "execution_count": 305,
   "id": "e5d29146",
   "metadata": {},
   "outputs": [],
   "source": [
    "customer_df['income'] = customer_df['income'].astype('float64')   ## 'Income' can be considered as continious in this case"
   ]
  },
  {
   "cell_type": "code",
   "execution_count": 306,
   "id": "179e83b8",
   "metadata": {},
   "outputs": [],
   "source": [
    "numerical = customer_df.select_dtypes(include = ['int64','datetime64','float64'])\n",
    "\n",
    "def split_numerical_discrete(df): \n",
    "    discrete = []\n",
    "    continious = []\n",
    "    for column in df:\n",
    "        if df[column].dtype == np.int64:\n",
    "            discrete.append(column)\n",
    "        else:\n",
    "            continious.append(column)\n",
    "    return {\n",
    "        'discrete_columns': discrete, \n",
    "        'continuous_columns':continious\n",
    "    }\n",
    "    "
   ]
  },
  {
   "cell_type": "code",
   "execution_count": 307,
   "id": "c24e621c",
   "metadata": {},
   "outputs": [
    {
     "data": {
      "text/plain": [
       "{'discrete_columns': ['monthly_premium_auto',\n",
       "  'months_since_last_claim',\n",
       "  'months_since_policy_inception',\n",
       "  'number_of_open_complaints',\n",
       "  'number_of_policies'],\n",
       " 'continuous_columns': ['customer_lifetime_value',\n",
       "  'effective_to_date',\n",
       "  'income',\n",
       "  'total_claim_amount']}"
      ]
     },
     "execution_count": 307,
     "metadata": {},
     "output_type": "execute_result"
    }
   ],
   "source": [
    "split_numerical_discrete(numerical)"
   ]
  },
  {
   "cell_type": "code",
   "execution_count": 308,
   "id": "62a804cd",
   "metadata": {},
   "outputs": [],
   "source": [
    "numerical_columns = split_numerical_discrete(numerical)\n",
    "discrete = numerical_columns['discrete_columns']\n",
    "continuous = numerical_columns['continuous_columns']"
   ]
  },
  {
   "cell_type": "code",
   "execution_count": 309,
   "id": "ba2d4166",
   "metadata": {},
   "outputs": [
    {
     "data": {
      "text/html": [
       "<div>\n",
       "<style scoped>\n",
       "    .dataframe tbody tr th:only-of-type {\n",
       "        vertical-align: middle;\n",
       "    }\n",
       "\n",
       "    .dataframe tbody tr th {\n",
       "        vertical-align: top;\n",
       "    }\n",
       "\n",
       "    .dataframe thead th {\n",
       "        text-align: right;\n",
       "    }\n",
       "</style>\n",
       "<table border=\"1\" class=\"dataframe\">\n",
       "  <thead>\n",
       "    <tr style=\"text-align: right;\">\n",
       "      <th></th>\n",
       "      <th>monthly_premium_auto</th>\n",
       "      <th>months_since_last_claim</th>\n",
       "      <th>months_since_policy_inception</th>\n",
       "      <th>number_of_open_complaints</th>\n",
       "      <th>number_of_policies</th>\n",
       "    </tr>\n",
       "  </thead>\n",
       "  <tbody>\n",
       "    <tr>\n",
       "      <th>0</th>\n",
       "      <td>69</td>\n",
       "      <td>32</td>\n",
       "      <td>5</td>\n",
       "      <td>0</td>\n",
       "      <td>1</td>\n",
       "    </tr>\n",
       "    <tr>\n",
       "      <th>1</th>\n",
       "      <td>94</td>\n",
       "      <td>13</td>\n",
       "      <td>42</td>\n",
       "      <td>0</td>\n",
       "      <td>8</td>\n",
       "    </tr>\n",
       "    <tr>\n",
       "      <th>2</th>\n",
       "      <td>108</td>\n",
       "      <td>18</td>\n",
       "      <td>38</td>\n",
       "      <td>0</td>\n",
       "      <td>2</td>\n",
       "    </tr>\n",
       "    <tr>\n",
       "      <th>3</th>\n",
       "      <td>106</td>\n",
       "      <td>18</td>\n",
       "      <td>65</td>\n",
       "      <td>0</td>\n",
       "      <td>7</td>\n",
       "    </tr>\n",
       "    <tr>\n",
       "      <th>4</th>\n",
       "      <td>73</td>\n",
       "      <td>12</td>\n",
       "      <td>44</td>\n",
       "      <td>0</td>\n",
       "      <td>1</td>\n",
       "    </tr>\n",
       "    <tr>\n",
       "      <th>...</th>\n",
       "      <td>...</td>\n",
       "      <td>...</td>\n",
       "      <td>...</td>\n",
       "      <td>...</td>\n",
       "      <td>...</td>\n",
       "    </tr>\n",
       "    <tr>\n",
       "      <th>9129</th>\n",
       "      <td>73</td>\n",
       "      <td>18</td>\n",
       "      <td>89</td>\n",
       "      <td>0</td>\n",
       "      <td>2</td>\n",
       "    </tr>\n",
       "    <tr>\n",
       "      <th>9130</th>\n",
       "      <td>79</td>\n",
       "      <td>14</td>\n",
       "      <td>28</td>\n",
       "      <td>0</td>\n",
       "      <td>1</td>\n",
       "    </tr>\n",
       "    <tr>\n",
       "      <th>9131</th>\n",
       "      <td>85</td>\n",
       "      <td>9</td>\n",
       "      <td>37</td>\n",
       "      <td>3</td>\n",
       "      <td>2</td>\n",
       "    </tr>\n",
       "    <tr>\n",
       "      <th>9132</th>\n",
       "      <td>96</td>\n",
       "      <td>34</td>\n",
       "      <td>3</td>\n",
       "      <td>0</td>\n",
       "      <td>3</td>\n",
       "    </tr>\n",
       "    <tr>\n",
       "      <th>9133</th>\n",
       "      <td>77</td>\n",
       "      <td>3</td>\n",
       "      <td>90</td>\n",
       "      <td>0</td>\n",
       "      <td>1</td>\n",
       "    </tr>\n",
       "  </tbody>\n",
       "</table>\n",
       "<p>9134 rows × 5 columns</p>\n",
       "</div>"
      ],
      "text/plain": [
       "      monthly_premium_auto  months_since_last_claim  \\\n",
       "0                       69                       32   \n",
       "1                       94                       13   \n",
       "2                      108                       18   \n",
       "3                      106                       18   \n",
       "4                       73                       12   \n",
       "...                    ...                      ...   \n",
       "9129                    73                       18   \n",
       "9130                    79                       14   \n",
       "9131                    85                        9   \n",
       "9132                    96                       34   \n",
       "9133                    77                        3   \n",
       "\n",
       "      months_since_policy_inception  number_of_open_complaints  \\\n",
       "0                                 5                          0   \n",
       "1                                42                          0   \n",
       "2                                38                          0   \n",
       "3                                65                          0   \n",
       "4                                44                          0   \n",
       "...                             ...                        ...   \n",
       "9129                             89                          0   \n",
       "9130                             28                          0   \n",
       "9131                             37                          3   \n",
       "9132                              3                          0   \n",
       "9133                             90                          0   \n",
       "\n",
       "      number_of_policies  \n",
       "0                      1  \n",
       "1                      8  \n",
       "2                      2  \n",
       "3                      7  \n",
       "4                      1  \n",
       "...                  ...  \n",
       "9129                   2  \n",
       "9130                   1  \n",
       "9131                   2  \n",
       "9132                   3  \n",
       "9133                   1  \n",
       "\n",
       "[9134 rows x 5 columns]"
      ]
     },
     "execution_count": 309,
     "metadata": {},
     "output_type": "execute_result"
    }
   ],
   "source": [
    "customer_df[discrete]"
   ]
  },
  {
   "cell_type": "code",
   "execution_count": 310,
   "id": "f01dad6e",
   "metadata": {
    "scrolled": true
   },
   "outputs": [
    {
     "data": {
      "text/html": [
       "<div>\n",
       "<style scoped>\n",
       "    .dataframe tbody tr th:only-of-type {\n",
       "        vertical-align: middle;\n",
       "    }\n",
       "\n",
       "    .dataframe tbody tr th {\n",
       "        vertical-align: top;\n",
       "    }\n",
       "\n",
       "    .dataframe thead th {\n",
       "        text-align: right;\n",
       "    }\n",
       "</style>\n",
       "<table border=\"1\" class=\"dataframe\">\n",
       "  <thead>\n",
       "    <tr style=\"text-align: right;\">\n",
       "      <th></th>\n",
       "      <th>customer_lifetime_value</th>\n",
       "      <th>effective_to_date</th>\n",
       "      <th>income</th>\n",
       "      <th>total_claim_amount</th>\n",
       "    </tr>\n",
       "  </thead>\n",
       "  <tbody>\n",
       "    <tr>\n",
       "      <th>0</th>\n",
       "      <td>2763.519279</td>\n",
       "      <td>2011-02-24</td>\n",
       "      <td>56274.0</td>\n",
       "      <td>384.811147</td>\n",
       "    </tr>\n",
       "    <tr>\n",
       "      <th>1</th>\n",
       "      <td>6979.535903</td>\n",
       "      <td>2011-01-31</td>\n",
       "      <td>0.0</td>\n",
       "      <td>1131.464935</td>\n",
       "    </tr>\n",
       "    <tr>\n",
       "      <th>2</th>\n",
       "      <td>12887.431650</td>\n",
       "      <td>2011-02-19</td>\n",
       "      <td>48767.0</td>\n",
       "      <td>566.472247</td>\n",
       "    </tr>\n",
       "    <tr>\n",
       "      <th>3</th>\n",
       "      <td>7645.861827</td>\n",
       "      <td>2011-01-20</td>\n",
       "      <td>0.0</td>\n",
       "      <td>529.881344</td>\n",
       "    </tr>\n",
       "    <tr>\n",
       "      <th>4</th>\n",
       "      <td>2813.692575</td>\n",
       "      <td>2011-02-03</td>\n",
       "      <td>43836.0</td>\n",
       "      <td>138.130879</td>\n",
       "    </tr>\n",
       "    <tr>\n",
       "      <th>...</th>\n",
       "      <td>...</td>\n",
       "      <td>...</td>\n",
       "      <td>...</td>\n",
       "      <td>...</td>\n",
       "    </tr>\n",
       "    <tr>\n",
       "      <th>9129</th>\n",
       "      <td>23405.987980</td>\n",
       "      <td>2011-02-10</td>\n",
       "      <td>71941.0</td>\n",
       "      <td>198.234764</td>\n",
       "    </tr>\n",
       "    <tr>\n",
       "      <th>9130</th>\n",
       "      <td>3096.511217</td>\n",
       "      <td>2011-02-12</td>\n",
       "      <td>21604.0</td>\n",
       "      <td>379.200000</td>\n",
       "    </tr>\n",
       "    <tr>\n",
       "      <th>9131</th>\n",
       "      <td>8163.890428</td>\n",
       "      <td>2011-02-06</td>\n",
       "      <td>0.0</td>\n",
       "      <td>790.784983</td>\n",
       "    </tr>\n",
       "    <tr>\n",
       "      <th>9132</th>\n",
       "      <td>7524.442436</td>\n",
       "      <td>2011-02-03</td>\n",
       "      <td>21941.0</td>\n",
       "      <td>691.200000</td>\n",
       "    </tr>\n",
       "    <tr>\n",
       "      <th>9133</th>\n",
       "      <td>2611.836866</td>\n",
       "      <td>2011-02-14</td>\n",
       "      <td>0.0</td>\n",
       "      <td>369.600000</td>\n",
       "    </tr>\n",
       "  </tbody>\n",
       "</table>\n",
       "<p>9134 rows × 4 columns</p>\n",
       "</div>"
      ],
      "text/plain": [
       "      customer_lifetime_value effective_to_date   income  total_claim_amount\n",
       "0                 2763.519279        2011-02-24  56274.0          384.811147\n",
       "1                 6979.535903        2011-01-31      0.0         1131.464935\n",
       "2                12887.431650        2011-02-19  48767.0          566.472247\n",
       "3                 7645.861827        2011-01-20      0.0          529.881344\n",
       "4                 2813.692575        2011-02-03  43836.0          138.130879\n",
       "...                       ...               ...      ...                 ...\n",
       "9129             23405.987980        2011-02-10  71941.0          198.234764\n",
       "9130              3096.511217        2011-02-12  21604.0          379.200000\n",
       "9131              8163.890428        2011-02-06      0.0          790.784983\n",
       "9132              7524.442436        2011-02-03  21941.0          691.200000\n",
       "9133              2611.836866        2011-02-14      0.0          369.600000\n",
       "\n",
       "[9134 rows x 4 columns]"
      ]
     },
     "execution_count": 310,
     "metadata": {},
     "output_type": "execute_result"
    }
   ],
   "source": [
    "customer_df[continuous]"
   ]
  },
  {
   "cell_type": "markdown",
   "id": "e2a0e595",
   "metadata": {},
   "source": [
    "## Get categorical features.For the categorical data, check if there is some kind of text in a variable so we would need to clean it. Hint: Use the same method you used in step 7. Depending on the implementation, decide what to do with the variables you get     \n",
    "\n"
   ]
  },
  {
   "cell_type": "code",
   "execution_count": 311,
   "id": "a63c3b6b",
   "metadata": {},
   "outputs": [],
   "source": [
    "categorical = list(customer_df.select_dtypes(include = ['object']).columns)\n",
    "categorical.remove('customer')"
   ]
  },
  {
   "cell_type": "code",
   "execution_count": 312,
   "id": "0d4efa70",
   "metadata": {},
   "outputs": [
    {
     "name": "stdout",
     "output_type": "stream",
     "text": [
      "********* STATE ***************\n",
      "California    3150\n",
      "Oregon        2601\n",
      "Arizona       1703\n",
      "Nevada         882\n",
      "Washington     798\n",
      "Name: state, dtype: int64\n",
      "---------------------------------------------\n",
      "********* RESPONSE ***************\n",
      "No     7826\n",
      "Yes    1308\n",
      "Name: response, dtype: int64\n",
      "---------------------------------------------\n",
      "********* COVERAGE ***************\n",
      "Basic       5568\n",
      "Extended    2742\n",
      "Premium      824\n",
      "Name: coverage, dtype: int64\n",
      "---------------------------------------------\n",
      "********* EDUCATION ***************\n",
      "Bachelor                2748\n",
      "College                 2681\n",
      "High School or Below    2622\n",
      "Master                   741\n",
      "Doctor                   342\n",
      "Name: education, dtype: int64\n",
      "---------------------------------------------\n",
      "********* EMPLOYMENTSTATUS ***************\n",
      "Employed         5698\n",
      "Unemployed       2317\n",
      "Medical Leave     432\n",
      "Disabled          405\n",
      "Retired           282\n",
      "Name: employmentstatus, dtype: int64\n",
      "---------------------------------------------\n",
      "********* GENDER ***************\n",
      "F    4658\n",
      "M    4476\n",
      "Name: gender, dtype: int64\n",
      "---------------------------------------------\n",
      "********* LOCATION_CODE ***************\n",
      "Suburban    5779\n",
      "Rural       1773\n",
      "Urban       1582\n",
      "Name: location_code, dtype: int64\n",
      "---------------------------------------------\n",
      "********* MARITAL_STATUS ***************\n",
      "Married     5298\n",
      "Single      2467\n",
      "Divorced    1369\n",
      "Name: marital_status, dtype: int64\n",
      "---------------------------------------------\n",
      "********* POLICY_TYPE ***************\n",
      "Personal Auto     6788\n",
      "Corporate Auto    1968\n",
      "Special Auto       378\n",
      "Name: policy_type, dtype: int64\n",
      "---------------------------------------------\n",
      "********* POLICY ***************\n",
      "Personal L3     3426\n",
      "Personal L2     2122\n",
      "Personal L1     1240\n",
      "Corporate L3    1014\n",
      "Corporate L2     595\n",
      "Corporate L1     359\n",
      "Special L2       164\n",
      "Special L3       148\n",
      "Special L1        66\n",
      "Name: policy, dtype: int64\n",
      "---------------------------------------------\n",
      "********* RENEW_OFFER_TYPE ***************\n",
      "Offer1    3752\n",
      "Offer2    2926\n",
      "Offer3    1432\n",
      "Offer4    1024\n",
      "Name: renew_offer_type, dtype: int64\n",
      "---------------------------------------------\n",
      "********* SALES_CHANNEL ***************\n",
      "Agent          3477\n",
      "Branch         2567\n",
      "Call Center    1765\n",
      "Web            1325\n",
      "Name: sales_channel, dtype: int64\n",
      "---------------------------------------------\n",
      "********* VEHICLE_CLASS ***************\n",
      "Four-Door Car    4621\n",
      "Two-Door Car     1886\n",
      "SUV              1796\n",
      "Sports Car        484\n",
      "Luxury SUV        184\n",
      "Luxury Car        163\n",
      "Name: vehicle_class, dtype: int64\n",
      "---------------------------------------------\n",
      "********* VEHICLE_SIZE ***************\n",
      "Medsize    6424\n",
      "Small      1764\n",
      "Large       946\n",
      "Name: vehicle_size, dtype: int64\n",
      "---------------------------------------------\n"
     ]
    }
   ],
   "source": [
    "for column in categorical:\n",
    "    if column!='customer':\n",
    "        print('*********', column.upper(), '***************')\n",
    "        print(customer_df[column].value_counts())\n",
    "        print('---------------------------------------------')\n",
    "    \n",
    "        "
   ]
  },
  {
   "cell_type": "markdown",
   "id": "56a06290",
   "metadata": {},
   "source": [
    "#### All 'object' types look like categorical"
   ]
  },
  {
   "cell_type": "code",
   "execution_count": null,
   "id": "0cb97351",
   "metadata": {},
   "outputs": [],
   "source": []
  },
  {
   "cell_type": "markdown",
   "id": "cf2ea678",
   "metadata": {},
   "source": [
    "## What should we do with the customer_id column?"
   ]
  },
  {
   "cell_type": "code",
   "execution_count": 313,
   "id": "fd04a862",
   "metadata": {},
   "outputs": [],
   "source": [
    "customer_df = customer_df.drop(['customer'],axis =1)  ## First i set \"customer\" as index,then i realized that i have \n",
    "# problems when i tried to concatenate numerical and categorical columns.So i will drop this column"
   ]
  },
  {
   "cell_type": "markdown",
   "id": "650a246f",
   "metadata": {},
   "source": [
    "## Plot a correlation matrix, what can you see?"
   ]
  },
  {
   "cell_type": "code",
   "execution_count": 314,
   "id": "b3c02757",
   "metadata": {},
   "outputs": [
    {
     "data": {
      "text/html": [
       "<div>\n",
       "<style scoped>\n",
       "    .dataframe tbody tr th:only-of-type {\n",
       "        vertical-align: middle;\n",
       "    }\n",
       "\n",
       "    .dataframe tbody tr th {\n",
       "        vertical-align: top;\n",
       "    }\n",
       "\n",
       "    .dataframe thead th {\n",
       "        text-align: right;\n",
       "    }\n",
       "</style>\n",
       "<table border=\"1\" class=\"dataframe\">\n",
       "  <thead>\n",
       "    <tr style=\"text-align: right;\">\n",
       "      <th></th>\n",
       "      <th>customer_lifetime_value</th>\n",
       "      <th>income</th>\n",
       "      <th>monthly_premium_auto</th>\n",
       "      <th>months_since_last_claim</th>\n",
       "      <th>months_since_policy_inception</th>\n",
       "      <th>number_of_open_complaints</th>\n",
       "      <th>number_of_policies</th>\n",
       "      <th>total_claim_amount</th>\n",
       "    </tr>\n",
       "  </thead>\n",
       "  <tbody>\n",
       "    <tr>\n",
       "      <th>customer_lifetime_value</th>\n",
       "      <td>1.000000</td>\n",
       "      <td>0.055395</td>\n",
       "      <td>0.453933</td>\n",
       "      <td>0.005126</td>\n",
       "      <td>-0.002429</td>\n",
       "      <td>-0.031312</td>\n",
       "      <td>0.488860</td>\n",
       "      <td>0.210598</td>\n",
       "    </tr>\n",
       "    <tr>\n",
       "      <th>income</th>\n",
       "      <td>0.055395</td>\n",
       "      <td>1.000000</td>\n",
       "      <td>-0.017608</td>\n",
       "      <td>-0.025784</td>\n",
       "      <td>-0.001945</td>\n",
       "      <td>0.006334</td>\n",
       "      <td>-0.010273</td>\n",
       "      <td>-0.401598</td>\n",
       "    </tr>\n",
       "    <tr>\n",
       "      <th>monthly_premium_auto</th>\n",
       "      <td>0.453933</td>\n",
       "      <td>-0.017608</td>\n",
       "      <td>1.000000</td>\n",
       "      <td>-0.005989</td>\n",
       "      <td>0.014596</td>\n",
       "      <td>-0.012751</td>\n",
       "      <td>-0.006936</td>\n",
       "      <td>0.522261</td>\n",
       "    </tr>\n",
       "    <tr>\n",
       "      <th>months_since_last_claim</th>\n",
       "      <td>0.005126</td>\n",
       "      <td>-0.025784</td>\n",
       "      <td>-0.005989</td>\n",
       "      <td>1.000000</td>\n",
       "      <td>-0.048269</td>\n",
       "      <td>0.005736</td>\n",
       "      <td>0.011439</td>\n",
       "      <td>-0.000782</td>\n",
       "    </tr>\n",
       "    <tr>\n",
       "      <th>months_since_policy_inception</th>\n",
       "      <td>-0.002429</td>\n",
       "      <td>-0.001945</td>\n",
       "      <td>0.014596</td>\n",
       "      <td>-0.048269</td>\n",
       "      <td>1.000000</td>\n",
       "      <td>-0.013233</td>\n",
       "      <td>-0.009546</td>\n",
       "      <td>-0.006569</td>\n",
       "    </tr>\n",
       "    <tr>\n",
       "      <th>number_of_open_complaints</th>\n",
       "      <td>-0.031312</td>\n",
       "      <td>0.006334</td>\n",
       "      <td>-0.012751</td>\n",
       "      <td>0.005736</td>\n",
       "      <td>-0.013233</td>\n",
       "      <td>1.000000</td>\n",
       "      <td>0.001523</td>\n",
       "      <td>-0.024694</td>\n",
       "    </tr>\n",
       "    <tr>\n",
       "      <th>number_of_policies</th>\n",
       "      <td>0.488860</td>\n",
       "      <td>-0.010273</td>\n",
       "      <td>-0.006936</td>\n",
       "      <td>0.011439</td>\n",
       "      <td>-0.009546</td>\n",
       "      <td>0.001523</td>\n",
       "      <td>1.000000</td>\n",
       "      <td>-0.011100</td>\n",
       "    </tr>\n",
       "    <tr>\n",
       "      <th>total_claim_amount</th>\n",
       "      <td>0.210598</td>\n",
       "      <td>-0.401598</td>\n",
       "      <td>0.522261</td>\n",
       "      <td>-0.000782</td>\n",
       "      <td>-0.006569</td>\n",
       "      <td>-0.024694</td>\n",
       "      <td>-0.011100</td>\n",
       "      <td>1.000000</td>\n",
       "    </tr>\n",
       "  </tbody>\n",
       "</table>\n",
       "</div>"
      ],
      "text/plain": [
       "                               customer_lifetime_value    income  \\\n",
       "customer_lifetime_value                       1.000000  0.055395   \n",
       "income                                        0.055395  1.000000   \n",
       "monthly_premium_auto                          0.453933 -0.017608   \n",
       "months_since_last_claim                       0.005126 -0.025784   \n",
       "months_since_policy_inception                -0.002429 -0.001945   \n",
       "number_of_open_complaints                    -0.031312  0.006334   \n",
       "number_of_policies                            0.488860 -0.010273   \n",
       "total_claim_amount                            0.210598 -0.401598   \n",
       "\n",
       "                               monthly_premium_auto  months_since_last_claim  \\\n",
       "customer_lifetime_value                    0.453933                 0.005126   \n",
       "income                                    -0.017608                -0.025784   \n",
       "monthly_premium_auto                       1.000000                -0.005989   \n",
       "months_since_last_claim                   -0.005989                 1.000000   \n",
       "months_since_policy_inception              0.014596                -0.048269   \n",
       "number_of_open_complaints                 -0.012751                 0.005736   \n",
       "number_of_policies                        -0.006936                 0.011439   \n",
       "total_claim_amount                         0.522261                -0.000782   \n",
       "\n",
       "                               months_since_policy_inception  \\\n",
       "customer_lifetime_value                            -0.002429   \n",
       "income                                             -0.001945   \n",
       "monthly_premium_auto                                0.014596   \n",
       "months_since_last_claim                            -0.048269   \n",
       "months_since_policy_inception                       1.000000   \n",
       "number_of_open_complaints                          -0.013233   \n",
       "number_of_policies                                 -0.009546   \n",
       "total_claim_amount                                 -0.006569   \n",
       "\n",
       "                               number_of_open_complaints  number_of_policies  \\\n",
       "customer_lifetime_value                        -0.031312            0.488860   \n",
       "income                                          0.006334           -0.010273   \n",
       "monthly_premium_auto                           -0.012751           -0.006936   \n",
       "months_since_last_claim                         0.005736            0.011439   \n",
       "months_since_policy_inception                  -0.013233           -0.009546   \n",
       "number_of_open_complaints                       1.000000            0.001523   \n",
       "number_of_policies                              0.001523            1.000000   \n",
       "total_claim_amount                             -0.024694           -0.011100   \n",
       "\n",
       "                               total_claim_amount  \n",
       "customer_lifetime_value                  0.210598  \n",
       "income                                  -0.401598  \n",
       "monthly_premium_auto                     0.522261  \n",
       "months_since_last_claim                 -0.000782  \n",
       "months_since_policy_inception           -0.006569  \n",
       "number_of_open_complaints               -0.024694  \n",
       "number_of_policies                      -0.011100  \n",
       "total_claim_amount                       1.000000  "
      ]
     },
     "execution_count": 314,
     "metadata": {},
     "output_type": "execute_result"
    }
   ],
   "source": [
    "corr_mat = customer_df.corr(method='spearman')\n",
    "corr_mat"
   ]
  },
  {
   "cell_type": "code",
   "execution_count": 315,
   "id": "5d211b77",
   "metadata": {},
   "outputs": [
    {
     "data": {
      "image/png": "[encoded data removed]",
      "text/plain": [
       "<Figure size 720x720 with 2 Axes>"
      ]
     },
     "metadata": {
      "needs_background": "light"
     },
     "output_type": "display_data"
    }
   ],
   "source": [
    "mask = np.zeros_like(corr_mat)\n",
    "mask[np.triu_indices_from(mask)] = True \n",
    "\n",
    "fig, ax = plt.subplots(figsize=(10, 10)) \n",
    "ax = sns.heatmap(corr_mat, mask=mask, annot=True) \n",
    "ax.set_title('Collienarity between variables') \n",
    "plt.show()"
   ]
  },
  {
   "cell_type": "raw",
   "id": "7adbf48d",
   "metadata": {},
   "source": [
    "\"Monthly Premium Auto\" is  are correlated with 'Customer Lifetime Value' and \"Total Claim Amount\"\n",
    "\n",
    "\"Number of Policies\"is correlated with 'Customer Lifetime Value'\n",
    "\n",
    "'Income' is negativ correlated with 'Total Claim Amount'"
   ]
  },
  {
   "cell_type": "markdown",
   "id": "71672339",
   "metadata": {},
   "source": [
    "## Create a function to plot every discrete variables. Do the same with continuous variables (be careful, you may change the plot type to another one better suited for continuous data)"
   ]
  },
  {
   "cell_type": "code",
   "execution_count": 316,
   "id": "9c54faed",
   "metadata": {},
   "outputs": [],
   "source": [
    "def plot_discrete(df):\n",
    "    for column in df:\n",
    "        sns.histplot(df[column])\n",
    "        plt.show()"
   ]
  },
  {
   "cell_type": "code",
   "execution_count": 317,
   "id": "eb99ad17",
   "metadata": {
    "scrolled": false
   },
   "outputs": [
    {
     "data": {
      "image/png": "[encoded data removed]",
      "text/plain": [
       "<Figure size 432x288 with 1 Axes>"
      ]
     },
     "metadata": {
      "needs_background": "light"
     },
     "output_type": "display_data"
    },
    {
     "data": {
      "image/png": "[encoded data removed]",
      "text/plain": [
       "<Figure size 432x288 with 1 Axes>"
      ]
     },
     "metadata": {
      "needs_background": "light"
     },
     "output_type": "display_data"
    },
    {
     "data": {
      "image/png": "[encoded data removed]",
      "text/plain": [
       "<Figure size 432x288 with 1 Axes>"
      ]
     },
     "metadata": {
      "needs_background": "light"
     },
     "output_type": "display_data"
    },
    {
     "data": {
      "image/png": "[encoded data removed]",
      "text/plain": [
       "<Figure size 432x288 with 1 Axes>"
      ]
     },
     "metadata": {
      "needs_background": "light"
     },
     "output_type": "display_data"
    },
    {
     "data": {
      "image/png": "[encoded data removed]",
      "text/plain": [
       "<Figure size 432x288 with 1 Axes>"
      ]
     },
     "metadata": {
      "needs_background": "light"
     },
     "output_type": "display_data"
    },
    {
     "data": {
      "image/png": "[encoded data removed]",
      "text/plain": [
       "<Figure size 432x288 with 1 Axes>"
      ]
     },
     "metadata": {
      "needs_background": "light"
     },
     "output_type": "display_data"
    },
    {
     "data": {
      "image/png": "[encoded data removed]",
      "text/plain": [
       "<Figure size 432x288 with 1 Axes>"
      ]
     },
     "metadata": {
      "needs_background": "light"
     },
     "output_type": "display_data"
    },
    {
     "data": {
      "image/png": "[encoded data removed]",
      "text/plain": [
       "<Figure size 432x288 with 1 Axes>"
      ]
     },
     "metadata": {
      "needs_background": "light"
     },
     "output_type": "display_data"
    },
    {
     "data": {
      "image/png": "[encoded data removed]",
      "text/plain": [
       "<Figure size 432x288 with 1 Axes>"
      ]
     },
     "metadata": {
      "needs_background": "light"
     },
     "output_type": "display_data"
    }
   ],
   "source": [
    "plot_discrete(numerical)"
   ]
  },
  {
   "cell_type": "markdown",
   "id": "197d39a9",
   "metadata": {},
   "source": [
    "## What can you see in the plots?"
   ]
  },
  {
   "cell_type": "markdown",
   "id": "41fc0033",
   "metadata": {},
   "source": [
    "#### \"Income\" and \"Number of Open Complaints\" columns contain large amount of zeros(\"Income\" more than 2500, \"Number of Open Complaints\" more than 7000).I dont know how to deal with this zeros.Maybe we could split this columns  by zeros and non-zeros.\"Months since last claim\",\"Months since policy inception\",'Effective to date',\"Number of  policies\" seem like normal distribution.\"Customer Lifetime Value\" and \"Monthly Premium Auto\"columns are highly skewed "
   ]
  },
  {
   "cell_type": "code",
   "execution_count": 318,
   "id": "14f34160",
   "metadata": {},
   "outputs": [],
   "source": [
    "def plot_outliers(df):\n",
    "    for column in df:\n",
    "        sns.boxplot(df[column])\n",
    "        plt.show()"
   ]
  },
  {
   "cell_type": "code",
   "execution_count": 319,
   "id": "e1f782e1",
   "metadata": {},
   "outputs": [],
   "source": [
    "columns_with_outliers = ['customer_lifetime_value','monthly_premium_auto']"
   ]
  },
  {
   "cell_type": "code",
   "execution_count": 320,
   "id": "8471fa20",
   "metadata": {},
   "outputs": [
    {
     "data": {
      "image/png": "[encoded data removed]",
      "text/plain": [
       "<Figure size 432x288 with 1 Axes>"
      ]
     },
     "metadata": {
      "needs_background": "light"
     },
     "output_type": "display_data"
    },
    {
     "data": {
      "image/png": "[encoded data removed]",
      "text/plain": [
       "<Figure size 432x288 with 1 Axes>"
      ]
     },
     "metadata": {
      "needs_background": "light"
     },
     "output_type": "display_data"
    }
   ],
   "source": [
    "plot_outliers(customer_df[columns_with_outliers])"
   ]
  },
  {
   "cell_type": "markdown",
   "id": "2023d1b1",
   "metadata": {},
   "source": [
    "## Have you found outliers? If you have, what should we do with them?"
   ]
  },
  {
   "cell_type": "code",
   "execution_count": 321,
   "id": "579739c4",
   "metadata": {},
   "outputs": [],
   "source": [
    "#I decided to remove outliers\n",
    "\n",
    "def remove_outliers(df, in_columns, threshold=3):\n",
    "    for column in in_columns:\n",
    "        upper = np.percentile(df[column],75)\n",
    "        lower = np.percentile(df[column],25)\n",
    "        iqr = upper - lower\n",
    "        upper_limit = upper + threshold * iqr\n",
    "        lower_limit = lower - threshold * iqr\n",
    "        df = df[(df[column]>lower_limit) & (df[column]<upper_limit)]\n",
    "    return df"
   ]
  },
  {
   "cell_type": "code",
   "execution_count": 322,
   "id": "e0b6e760",
   "metadata": {},
   "outputs": [],
   "source": [
    "customer_df_cleaned = remove_outliers(customer_df, \n",
    "                     in_columns=columns_with_outliers, \n",
    "                     threshold = 3\n",
    "                    )"
   ]
  },
  {
   "cell_type": "code",
   "execution_count": 323,
   "id": "1b42cced",
   "metadata": {},
   "outputs": [
    {
     "data": {
      "image/png": "[encoded data removed]",
      "text/plain": [
       "<Figure size 432x288 with 1 Axes>"
      ]
     },
     "metadata": {
      "needs_background": "light"
     },
     "output_type": "display_data"
    },
    {
     "data": {
      "image/png": "[encoded data removed]",
      "text/plain": [
       "<Figure size 432x288 with 1 Axes>"
      ]
     },
     "metadata": {
      "needs_background": "light"
     },
     "output_type": "display_data"
    }
   ],
   "source": [
    "plot_outliers(customer_df_cleaned[columns_with_outliers])"
   ]
  },
  {
   "cell_type": "markdown",
   "id": "459e6194",
   "metadata": {},
   "source": [
    "## Plot all the categorical variables with the proper plot. What can you see?"
   ]
  },
  {
   "cell_type": "code",
   "execution_count": 324,
   "id": "6f349dd8",
   "metadata": {
    "scrolled": false
   },
   "outputs": [
    {
     "name": "stdout",
     "output_type": "stream",
     "text": [
      "STATE\n"
     ]
    },
    {
     "data": {
      "image/png": "[encoded data removed]",
      "text/plain": [
       "<Figure size 432x288 with 1 Axes>"
      ]
     },
     "metadata": {
      "needs_background": "light"
     },
     "output_type": "display_data"
    },
    {
     "name": "stdout",
     "output_type": "stream",
     "text": [
      "RESPONSE\n"
     ]
    },
    {
     "data": {
      "image/png": "[encoded data removed]",
      "text/plain": [
       "<Figure size 432x288 with 1 Axes>"
      ]
     },
     "metadata": {
      "needs_background": "light"
     },
     "output_type": "display_data"
    },
    {
     "name": "stdout",
     "output_type": "stream",
     "text": [
      "COVERAGE\n"
     ]
    },
    {
     "data": {
      "image/png": "[encoded data removed]",
      "text/plain": [
       "<Figure size 432x288 with 1 Axes>"
      ]
     },
     "metadata": {
      "needs_background": "light"
     },
     "output_type": "display_data"
    },
    {
     "name": "stdout",
     "output_type": "stream",
     "text": [
      "EDUCATION\n"
     ]
    },
    {
     "data": {
      "image/png": "[encoded data removed]",
      "text/plain": [
       "<Figure size 432x288 with 1 Axes>"
      ]
     },
     "metadata": {
      "needs_background": "light"
     },
     "output_type": "display_data"
    },
    {
     "name": "stdout",
     "output_type": "stream",
     "text": [
      "EMPLOYMENTSTATUS\n"
     ]
    },
    {
     "data": {
      "image/png": "[encoded data removed]",
      "text/plain": [
       "<Figure size 432x288 with 1 Axes>"
      ]
     },
     "metadata": {
      "needs_background": "light"
     },
     "output_type": "display_data"
    },
    {
     "name": "stdout",
     "output_type": "stream",
     "text": [
      "GENDER\n"
     ]
    },
    {
     "data": {
      "image/png": "[encoded data removed]",
      "text/plain": [
       "<Figure size 432x288 with 1 Axes>"
      ]
     },
     "metadata": {
      "needs_background": "light"
     },
     "output_type": "display_data"
    },
    {
     "name": "stdout",
     "output_type": "stream",
     "text": [
      "LOCATION_CODE\n"
     ]
    },
    {
     "data": {
      "image/png": "[encoded data removed]",
      "text/plain": [
       "<Figure size 432x288 with 1 Axes>"
      ]
     },
     "metadata": {
      "needs_background": "light"
     },
     "output_type": "display_data"
    },
    {
     "name": "stdout",
     "output_type": "stream",
     "text": [
      "MARITAL_STATUS\n"
     ]
    },
    {
     "data": {
      "image/png": "[encoded data removed]",
      "text/plain": [
       "<Figure size 432x288 with 1 Axes>"
      ]
     },
     "metadata": {
      "needs_background": "light"
     },
     "output_type": "display_data"
    },
    {
     "name": "stdout",
     "output_type": "stream",
     "text": [
      "POLICY_TYPE\n"
     ]
    },
    {
     "data": {
      "image/png": "[encoded data removed]",
      "text/plain": [
       "<Figure size 432x288 with 1 Axes>"
      ]
     },
     "metadata": {
      "needs_background": "light"
     },
     "output_type": "display_data"
    },
    {
     "name": "stdout",
     "output_type": "stream",
     "text": [
      "POLICY\n"
     ]
    },
    {
     "data": {
      "image/png": "[encoded data removed]",
      "text/plain": [
       "<Figure size 432x288 with 1 Axes>"
      ]
     },
     "metadata": {
      "needs_background": "light"
     },
     "output_type": "display_data"
    },
    {
     "name": "stdout",
     "output_type": "stream",
     "text": [
      "RENEW_OFFER_TYPE\n"
     ]
    },
    {
     "data": {
      "image/png": "[encoded data removed]",
      "text/plain": [
       "<Figure size 432x288 with 1 Axes>"
      ]
     },
     "metadata": {
      "needs_background": "light"
     },
     "output_type": "display_data"
    },
    {
     "name": "stdout",
     "output_type": "stream",
     "text": [
      "SALES_CHANNEL\n"
     ]
    },
    {
     "data": {
      "image/png": "[encoded data removed]",
      "text/plain": [
       "<Figure size 432x288 with 1 Axes>"
      ]
     },
     "metadata": {
      "needs_background": "light"
     },
     "output_type": "display_data"
    },
    {
     "name": "stdout",
     "output_type": "stream",
     "text": [
      "VEHICLE_CLASS\n"
     ]
    },
    {
     "data": {
      "image/png": "[encoded data removed]",
      "text/plain": [
       "<Figure size 432x288 with 1 Axes>"
      ]
     },
     "metadata": {
      "needs_background": "light"
     },
     "output_type": "display_data"
    },
    {
     "name": "stdout",
     "output_type": "stream",
     "text": [
      "VEHICLE_SIZE\n"
     ]
    },
    {
     "data": {
      "image/png": "[encoded data removed]",
      "text/plain": [
       "<Figure size 432x288 with 1 Axes>"
      ]
     },
     "metadata": {
      "needs_background": "light"
     },
     "output_type": "display_data"
    }
   ],
   "source": [
    "for column in categorical:\n",
    "    if column == 'effective_to_date':  ##we will plot this column in the next exercise\n",
    "        continue\n",
    "    ax = sns.countplot(x = customer_df_cleaned[column], data=customer_df_cleaned)\n",
    "    ax.set_xticklabels(ax.get_xticklabels(), rotation=40, ha=\"right\")\n",
    "    print(column.upper())\n",
    "    plt.tight_layout()\n",
    "    plt.show()"
   ]
  },
  {
   "cell_type": "markdown",
   "id": "edbad00b",
   "metadata": {},
   "source": [
    "## There might be some columns that seem to be redundant, check their values to be sure. What should we do with them?"
   ]
  },
  {
   "cell_type": "code",
   "execution_count": 325,
   "id": "9433a4c7",
   "metadata": {},
   "outputs": [
    {
     "name": "stdout",
     "output_type": "stream",
     "text": [
      "********* STATE ***************\n",
      "California    3010\n",
      "Oregon        2478\n",
      "Arizona       1624\n",
      "Nevada         833\n",
      "Washington     752\n",
      "Name: state, dtype: int64\n",
      "---------------------------------------------\n",
      "********* RESPONSE ***************\n",
      "No     7461\n",
      "Yes    1236\n",
      "Name: response, dtype: int64\n",
      "---------------------------------------------\n",
      "********* COVERAGE ***************\n",
      "Basic       5398\n",
      "Extended    2566\n",
      "Premium      733\n",
      "Name: coverage, dtype: int64\n",
      "---------------------------------------------\n",
      "********* EDUCATION ***************\n",
      "Bachelor                2616\n",
      "College                 2577\n",
      "High School or Below    2474\n",
      "Master                   704\n",
      "Doctor                   326\n",
      "Name: education, dtype: int64\n",
      "---------------------------------------------\n",
      "********* EMPLOYMENTSTATUS ***************\n",
      "Employed         5405\n",
      "Unemployed       2231\n",
      "Medical Leave     409\n",
      "Disabled          386\n",
      "Retired           266\n",
      "Name: employmentstatus, dtype: int64\n",
      "---------------------------------------------\n",
      "********* GENDER ***************\n",
      "F    4409\n",
      "M    4288\n",
      "Name: gender, dtype: int64\n",
      "---------------------------------------------\n",
      "********* LOCATION_CODE ***************\n",
      "Suburban    5487\n",
      "Rural       1704\n",
      "Urban       1506\n",
      "Name: location_code, dtype: int64\n",
      "---------------------------------------------\n",
      "********* MARITAL_STATUS ***************\n",
      "Married     5062\n",
      "Single      2358\n",
      "Divorced    1277\n",
      "Name: marital_status, dtype: int64\n",
      "---------------------------------------------\n",
      "********* POLICY_TYPE ***************\n",
      "Personal Auto     6454\n",
      "Corporate Auto    1885\n",
      "Special Auto       358\n",
      "Name: policy_type, dtype: int64\n",
      "---------------------------------------------\n",
      "********* POLICY ***************\n",
      "Personal L3     3258\n",
      "Personal L2     2014\n",
      "Personal L1     1182\n",
      "Corporate L3     971\n",
      "Corporate L2     574\n",
      "Corporate L1     340\n",
      "Special L2       155\n",
      "Special L3       139\n",
      "Special L1        64\n",
      "Name: policy, dtype: int64\n",
      "---------------------------------------------\n",
      "********* RENEW_OFFER_TYPE ***************\n",
      "Offer1    3544\n",
      "Offer2    2803\n",
      "Offer3    1368\n",
      "Offer4     982\n",
      "Name: renew_offer_type, dtype: int64\n",
      "---------------------------------------------\n",
      "********* SALES_CHANNEL ***************\n",
      "Agent          3310\n",
      "Branch         2449\n",
      "Call Center    1676\n",
      "Web            1262\n",
      "Name: sales_channel, dtype: int64\n",
      "---------------------------------------------\n",
      "********* VEHICLE_CLASS ***************\n",
      "Four-Door Car    4523\n",
      "Two-Door Car     1851\n",
      "SUV              1664\n",
      "Sports Car        438\n",
      "Luxury SUV        116\n",
      "Luxury Car        105\n",
      "Name: vehicle_class, dtype: int64\n",
      "---------------------------------------------\n",
      "********* VEHICLE_SIZE ***************\n",
      "Medsize    6114\n",
      "Small      1670\n",
      "Large       913\n",
      "Name: vehicle_size, dtype: int64\n",
      "---------------------------------------------\n"
     ]
    }
   ],
   "source": [
    "for column in categorical:\n",
    "    if column!='effective_to_date':\n",
    "        print('*********', column.upper(), '***************')\n",
    "        print(customer_df_cleaned[column].value_counts())\n",
    "        print('---------------------------------------------')"
   ]
  },
  {
   "cell_type": "markdown",
   "id": "0411b5b5",
   "metadata": {},
   "source": [
    "#### For now,i dont see any redundant column in data"
   ]
  },
  {
   "cell_type": "markdown",
   "id": "9fca24a8",
   "metadata": {},
   "source": [
    "## Plot time variable. Can you extract something from it?\n"
   ]
  },
  {
   "cell_type": "code",
   "execution_count": 326,
   "id": "78b2db22",
   "metadata": {},
   "outputs": [
    {
     "data": {
      "text/plain": [
       "0    2011-02-24\n",
       "1    2011-01-31\n",
       "2    2011-02-19\n",
       "3    2011-01-20\n",
       "4    2011-02-03\n",
       "5    2011-01-25\n",
       "6    2011-02-24\n",
       "7    2011-01-18\n",
       "9    2011-02-17\n",
       "10   2011-02-21\n",
       "Name: effective_to_date, dtype: datetime64[ns]"
      ]
     },
     "execution_count": 326,
     "metadata": {},
     "output_type": "execute_result"
    }
   ],
   "source": [
    "customer_df_cleaned['effective_to_date'] = pd.to_datetime(customer_df_cleaned['effective_to_date'], errors='coerce')\n",
    "customer_df_cleaned['effective_to_date'].head(10)"
   ]
  },
  {
   "cell_type": "code",
   "execution_count": 327,
   "id": "221534ab",
   "metadata": {},
   "outputs": [
    {
     "data": {
      "text/plain": [
       "<AxesSubplot:ylabel='effective_to_date'>"
      ]
     },
     "execution_count": 327,
     "metadata": {},
     "output_type": "execute_result"
    },
    {
     "data": {
      "image/png": "[encoded data removed]",
      "text/plain": [
       "<Figure size 1152x576 with 1 Axes>"
      ]
     },
     "metadata": {
      "needs_background": "light"
     },
     "output_type": "display_data"
    }
   ],
   "source": [
    "fig, ax = plt.subplots(figsize=(16, 8))\n",
    "sns.lineplot(x=customer_df_cleaned['effective_to_date'].unique(), y = customer_df_cleaned['effective_to_date'].value_counts())"
   ]
  },
  {
   "cell_type": "code",
   "execution_count": 328,
   "id": "39babb7b",
   "metadata": {},
   "outputs": [
    {
     "data": {
      "text/plain": [
       "array([ 8,  5,  7,  3,  4,  1,  2,  9,  6, 52])"
      ]
     },
     "execution_count": 328,
     "metadata": {},
     "output_type": "execute_result"
    }
   ],
   "source": [
    "# I decided to extract week from the effective_to_date column,as all contracts in dataset begin in 2011\n",
    "\n",
    "customer_df_cleaned['contract_weeks_2011'] = customer_df_cleaned['effective_to_date'].dt.week\n",
    "customer_df_cleaned = customer_df_cleaned.drop('effective_to_date',axis = 1)\n",
    "customer_df_cleaned['contract_weeks_2011'].unique()"
   ]
  },
  {
   "cell_type": "markdown",
   "id": "26498bd4",
   "metadata": {},
   "source": [
    "## Normalize the continuous variables. You can use any one method you want"
   ]
  },
  {
   "cell_type": "code",
   "execution_count": 329,
   "id": "26cc4087",
   "metadata": {},
   "outputs": [],
   "source": [
    "# 'Total Claim Amount' is going to be our target,so we dont scale this column\n",
    "\n",
    "continous_columns = ['customer_lifetime_value','income']\n",
    "discrete_columns = ['monthly_premium_auto','months_since_last_claim','months_since_policy_inception',\n",
    "               'number_of_open_complaints','number_of_policies','contract_weeks_2011']"
   ]
  },
  {
   "cell_type": "code",
   "execution_count": 330,
   "id": "49d856f4",
   "metadata": {},
   "outputs": [],
   "source": [
    "from sklearn.preprocessing import StandardScaler\n",
    "transformer = StandardScaler().fit(customer_df_cleaned[continous_columns])\n",
    "customer_df_cleaned[continous_columns] = pd.DataFrame(transformer.transform(customer_df_cleaned[continous_columns]), index=customer_df_cleaned.index)"
   ]
  },
  {
   "cell_type": "markdown",
   "id": "c5d5bb80",
   "metadata": {},
   "source": [
    "# Encode the categorical variables"
   ]
  },
  {
   "cell_type": "code",
   "execution_count": 331,
   "id": "8b2d3946",
   "metadata": {},
   "outputs": [],
   "source": [
    "from sklearn.preprocessing import OrdinalEncoder\n",
    "\n",
    "oe = OrdinalEncoder()\n",
    "ordinal_cols = ['education', 'coverage','employmentstatus','vehicle_size','location_code', 'response', 'gender']\n",
    "customer_df_cleaned[ordinal_cols] = pd.DataFrame(oe.fit_transform(customer_df_cleaned[ordinal_cols]).astype(int), \n",
    "                                                 index=customer_df_cleaned.index)"
   ]
  },
  {
   "cell_type": "markdown",
   "id": "75380e0d",
   "metadata": {},
   "source": [
    "## One Hot Encoding\n"
   ]
  },
  {
   "cell_type": "code",
   "execution_count": 332,
   "id": "9a040579",
   "metadata": {},
   "outputs": [],
   "source": [
    "onehot_cols = ['state','marital_status','policy_type','sales_channel','policy','vehicle_class', 'renew_offer_type']"
   ]
  },
  {
   "cell_type": "code",
   "execution_count": 333,
   "id": "fd077842",
   "metadata": {},
   "outputs": [],
   "source": [
    "from sklearn import preprocessing\n",
    "from sklearn.preprocessing import OneHotEncoder\n",
    "\n",
    "df_for_ohe = customer_df_cleaned[onehot_cols]\n",
    "customer_df_cleaned.drop(onehot_cols, axis=1, inplace=True)\n",
    "\n",
    "enc = preprocessing.OneHotEncoder()\n",
    "enc.fit(df_for_ohe)\n",
    "\n",
    "from functools import reduce\n",
    "one_hot_cols_encoded = reduce(lambda x, y: list(x) + list(y), enc.categories_)\n",
    "\n",
    "customer_df_cleaned[one_hot_cols_encoded] = pd.DataFrame(enc.transform(df_for_ohe).toarray(), \n",
    "                                                         index=customer_df_cleaned.index)"
   ]
  },
  {
   "cell_type": "markdown",
   "id": "4a914238",
   "metadata": {},
   "source": [
    "## Since the model will only accept numerical data, check and make sure that every column is numerical, if some are not, change it using encoding"
   ]
  },
  {
   "cell_type": "code",
   "execution_count": 334,
   "id": "e533cdf4",
   "metadata": {},
   "outputs": [],
   "source": [
    "# All columns are in numerical"
   ]
  },
  {
   "cell_type": "markdown",
   "id": "1a258b4e",
   "metadata": {},
   "source": [
    "## In this final lab, we will model our data. Import sklearn train_test_split and separate the data.\n"
   ]
  },
  {
   "cell_type": "code",
   "execution_count": 335,
   "id": "a6843746",
   "metadata": {},
   "outputs": [],
   "source": [
    "y = customer_df_cleaned[['total_claim_amount']]\n",
    "X = customer_df_cleaned.drop('total_claim_amount', axis=1)"
   ]
  },
  {
   "cell_type": "code",
   "execution_count": 336,
   "id": "59dbb2e6",
   "metadata": {},
   "outputs": [
    {
     "name": "stdout",
     "output_type": "stream",
     "text": [
      "(8697, 1)\n",
      "(8697, 49)\n"
     ]
    }
   ],
   "source": [
    "print(y.shape)\n",
    "print(X.shape)"
   ]
  },
  {
   "cell_type": "code",
   "execution_count": 337,
   "id": "8146020c",
   "metadata": {},
   "outputs": [],
   "source": [
    "from sklearn.model_selection import train_test_split\n",
    "from sklearn.preprocessing import Normalizer"
   ]
  },
  {
   "cell_type": "code",
   "execution_count": 338,
   "id": "e4a2c9f0",
   "metadata": {},
   "outputs": [],
   "source": [
    "transformer = Normalizer().fit(X) \n",
    "X_normalized = transformer.transform(X)"
   ]
  },
  {
   "cell_type": "code",
   "execution_count": 339,
   "id": "7273c885",
   "metadata": {},
   "outputs": [],
   "source": [
    "X_train, X_test, y_train, y_test = train_test_split(X_normalized, y, test_size=0.2, random_state=10)\n"
   ]
  },
  {
   "cell_type": "code",
   "execution_count": null,
   "id": "3a0cd580",
   "metadata": {},
   "outputs": [],
   "source": []
  },
  {
   "cell_type": "markdown",
   "id": "f9334f6d",
   "metadata": {},
   "source": [
    "## Try a simple linear regression with all the data to see whether we are getting good results"
   ]
  },
  {
   "cell_type": "code",
   "execution_count": 340,
   "id": "469c5096",
   "metadata": {},
   "outputs": [],
   "source": [
    "from sklearn import linear_model\n",
    "\n",
    "lm = linear_model.LinearRegression()\n",
    "lm_model = lm.fit(X_train, y_train)"
   ]
  },
  {
   "cell_type": "code",
   "execution_count": 341,
   "id": "c9ea6bbb",
   "metadata": {},
   "outputs": [],
   "source": [
    "lm_predictions = lm_model.predict(X_test)"
   ]
  },
  {
   "cell_type": "code",
   "execution_count": 342,
   "id": "9d005288",
   "metadata": {},
   "outputs": [
    {
     "name": "stdout",
     "output_type": "stream",
     "text": [
      "The mean absolute error of the model in the test set is: 135.01\n",
      "The mean squared error of the model in the test set is: 32830.83\n",
      "The root mean squared error of the model in the test set is: 181.19\n",
      "The R2 of the model in the test set is: 0.52\n"
     ]
    }
   ],
   "source": [
    "from sklearn.metrics import mean_absolute_error, mean_squared_error, r2_score\n",
    "\n",
    "MAE = mean_absolute_error(y_test,lm_predictions)\n",
    "MSE = mean_squared_error(y_test,lm_predictions)\n",
    "RMSE = np.sqrt(MSE)\n",
    "R2 = r2_score(y_test,lm_predictions)\n",
    "\n",
    "print(\"The mean absolute error of the model in the test set is: %6.2f\" % (MAE))\n",
    "print(\"The mean squared error of the model in the test set is: %6.2f\" % (MSE))\n",
    "print(\"The root mean squared error of the model in the test set is: %6.2f\" % (RMSE))\n",
    "print(\"The R2 of the model in the test set is: %4.2f\" % (R2))"
   ]
  },
  {
   "cell_type": "markdown",
   "id": "1489f315",
   "metadata": {},
   "source": [
    "## Great! Now define a function that takes a list of models and train (and tests) them so we can try a lot of them without repeating code."
   ]
  },
  {
   "cell_type": "code",
   "execution_count": 343,
   "id": "4361fade",
   "metadata": {},
   "outputs": [],
   "source": [
    "def models(data, target, model, k = 3, test_size=0.2, multiclass = 'multinomial'):\n",
    "    # X Y split\n",
    "    \n",
    "    X = customer_df_cleaned.drop('total_claim_amount', axis=1)\n",
    "    y = customer_df_cleaned[['total_claim_amount']]\n",
    "    \n",
    "    # Train Test split\n",
    "    from sklearn.model_selection import train_test_split\n",
    "    \n",
    "    X_train, X_test, y_train, y_test = train_test_split(X, y, test_size=test_size, random_state=100)\n",
    "    \n",
    "    # linear model\n",
    "    if model == 'Linear_Regression':\n",
    "        from sklearn import linear_model\n",
    "        lm = linear_model.LinearRegression()\n",
    "        model =lm.fit(X_train,y_train)\n",
    "        predictions  = lm.predict(X_test)\n",
    "        predictions_df = pd.DataFrame(predictions, columns=[y.columns])\n",
    "        \n",
    "    # K NeighborsRegressor\n",
    "    elif model == 'KNN':\n",
    "        from sklearn.neighbors import KNeighborsRegressor\n",
    "\n",
    "        model = KNeighborsRegressor(n_neighbors=k)\n",
    "        model.fit(X_train, y_train)\n",
    "        predictions = model.predict(X_test)\n",
    "        predictions_df = pd.DataFrame(predictions, columns=[y.columns])\n",
    "        \n",
    "    # Logistic model\n",
    "    elif model == 'Logistic':\n",
    "        from sklearn.linear_model import LogisticRegression\n",
    "        from sklearn.metrics import cohen_kappa_score\n",
    "        model = LogisticRegression(random_state=0, solver='lbfgs', multi_class=multiclass).fit(X_train, y_train)\n",
    "        predictions = model.predict(X_test)\n",
    "        predictions_df = pd.DataFrame(model.predict(X_test))\n",
    "        \n",
    "        print(\"The accuracy of the model in the TEST set is: \", round(model.score(X_test, y_test),2))\n",
    "        print(\"The kappa of the model is: \", cohen_kappa_score(y,model.predict(X)))\n",
    "        \n",
    "    else:\n",
    "        print('something went wrong')\n",
    "        \n",
    "    from sklearn.metrics import mean_squared_error, r2_score, mean_absolute_error\n",
    "    MAE = mean_absolute_error(y_test,predictions)\n",
    "    MSE = mean_squared_error(y_test,predictions)\n",
    "    RMSE = np.sqrt(MSE)\n",
    "    R2 = r2_score(y_test,predictions)\n",
    "    \n",
    "    results_error_matrix=[MAE,MSE,RMSE,R2]\n",
    "\n",
    "\n",
    "    print(\"The mean absolute error of the model in the test set is: %6.2f\" % (MAE))\n",
    "    print(\"The mean squared error of the model in the test set is: %6.2f\" % (MSE))\n",
    "    print(\"The root mean squared error of the model in the test set is: %6.2f\" % (RMSE))\n",
    "    print(\"The R2 of the model in the test set is: %4.2f\" % (R2))\n",
    "    \n",
    "    return predictions, predictions_df, model, results_error_matrix \n",
    "        \n",
    "        "
   ]
  },
  {
   "cell_type": "markdown",
   "id": "f7982533",
   "metadata": {},
   "source": [
    "## Use the function to check LinearRegressor and KNeighborsRegressor.\n"
   ]
  },
  {
   "cell_type": "code",
   "execution_count": 344,
   "id": "30d88956",
   "metadata": {},
   "outputs": [
    {
     "name": "stdout",
     "output_type": "stream",
     "text": [
      "The mean absolute error of the model in the test set is: 126.35\n",
      "The mean squared error of the model in the test set is: 28524.89\n",
      "The root mean squared error of the model in the test set is: 168.89\n",
      "The R2 of the model in the test set is: 0.59\n"
     ]
    }
   ],
   "source": [
    "#Checking Linear Model\n",
    "\n",
    "predictions, predictions_df, model, results_error_matrix = models(customer_df_cleaned,'total_claim_amount',\n",
    "                                                                  'Linear_Regression')"
   ]
  },
  {
   "cell_type": "code",
   "execution_count": 345,
   "id": "2f174ec1",
   "metadata": {},
   "outputs": [
    {
     "data": {
      "text/html": [
       "<div>\n",
       "<style scoped>\n",
       "    .dataframe tbody tr th:only-of-type {\n",
       "        vertical-align: middle;\n",
       "    }\n",
       "\n",
       "    .dataframe tbody tr th {\n",
       "        vertical-align: top;\n",
       "    }\n",
       "\n",
       "    .dataframe thead tr th {\n",
       "        text-align: left;\n",
       "    }\n",
       "</style>\n",
       "<table border=\"1\" class=\"dataframe\">\n",
       "  <thead>\n",
       "    <tr>\n",
       "      <th></th>\n",
       "      <th>total_claim_amount</th>\n",
       "    </tr>\n",
       "  </thead>\n",
       "  <tbody>\n",
       "    <tr>\n",
       "      <th>0</th>\n",
       "      <td>564.757630</td>\n",
       "    </tr>\n",
       "    <tr>\n",
       "      <th>1</th>\n",
       "      <td>785.040536</td>\n",
       "    </tr>\n",
       "    <tr>\n",
       "      <th>2</th>\n",
       "      <td>526.669451</td>\n",
       "    </tr>\n",
       "    <tr>\n",
       "      <th>3</th>\n",
       "      <td>246.024745</td>\n",
       "    </tr>\n",
       "    <tr>\n",
       "      <th>4</th>\n",
       "      <td>527.151325</td>\n",
       "    </tr>\n",
       "    <tr>\n",
       "      <th>...</th>\n",
       "      <td>...</td>\n",
       "    </tr>\n",
       "    <tr>\n",
       "      <th>1735</th>\n",
       "      <td>721.522467</td>\n",
       "    </tr>\n",
       "    <tr>\n",
       "      <th>1736</th>\n",
       "      <td>506.837642</td>\n",
       "    </tr>\n",
       "    <tr>\n",
       "      <th>1737</th>\n",
       "      <td>349.295862</td>\n",
       "    </tr>\n",
       "    <tr>\n",
       "      <th>1738</th>\n",
       "      <td>248.035122</td>\n",
       "    </tr>\n",
       "    <tr>\n",
       "      <th>1739</th>\n",
       "      <td>41.432501</td>\n",
       "    </tr>\n",
       "  </tbody>\n",
       "</table>\n",
       "<p>1740 rows × 1 columns</p>\n",
       "</div>"
      ],
      "text/plain": [
       "     total_claim_amount\n",
       "0            564.757630\n",
       "1            785.040536\n",
       "2            526.669451\n",
       "3            246.024745\n",
       "4            527.151325\n",
       "...                 ...\n",
       "1735         721.522467\n",
       "1736         506.837642\n",
       "1737         349.295862\n",
       "1738         248.035122\n",
       "1739          41.432501\n",
       "\n",
       "[1740 rows x 1 columns]"
      ]
     },
     "execution_count": 345,
     "metadata": {},
     "output_type": "execute_result"
    }
   ],
   "source": [
    "predictions_df"
   ]
  },
  {
   "cell_type": "code",
   "execution_count": 346,
   "id": "8c04f11c",
   "metadata": {},
   "outputs": [
    {
     "name": "stdout",
     "output_type": "stream",
     "text": [
      "The mean absolute error of the model in the test set is: 148.66\n",
      "The mean squared error of the model in the test set is: 46947.77\n",
      "The root mean squared error of the model in the test set is: 216.67\n",
      "The R2 of the model in the test set is: 0.33\n"
     ]
    }
   ],
   "source": [
    "# Checking KNN \n",
    "\n",
    "predictions, predictions_df, model, results_error_matrix = models(customer_df_cleaned,'total_claim_amount',\n",
    "                                                                  'KNN')\n"
   ]
  },
  {
   "cell_type": "code",
   "execution_count": 130,
   "id": "72ac5b15",
   "metadata": {},
   "outputs": [
    {
     "data": {
      "text/html": [
       "<div>\n",
       "<style scoped>\n",
       "    .dataframe tbody tr th:only-of-type {\n",
       "        vertical-align: middle;\n",
       "    }\n",
       "\n",
       "    .dataframe tbody tr th {\n",
       "        vertical-align: top;\n",
       "    }\n",
       "\n",
       "    .dataframe thead tr th {\n",
       "        text-align: left;\n",
       "    }\n",
       "</style>\n",
       "<table border=\"1\" class=\"dataframe\">\n",
       "  <thead>\n",
       "    <tr>\n",
       "      <th></th>\n",
       "      <th>total_claim_amount</th>\n",
       "    </tr>\n",
       "  </thead>\n",
       "  <tbody>\n",
       "    <tr>\n",
       "      <th>0</th>\n",
       "      <td>416.906660</td>\n",
       "    </tr>\n",
       "    <tr>\n",
       "      <th>1</th>\n",
       "      <td>534.347491</td>\n",
       "    </tr>\n",
       "    <tr>\n",
       "      <th>2</th>\n",
       "      <td>369.818708</td>\n",
       "    </tr>\n",
       "    <tr>\n",
       "      <th>3</th>\n",
       "      <td>227.454064</td>\n",
       "    </tr>\n",
       "    <tr>\n",
       "      <th>4</th>\n",
       "      <td>317.481409</td>\n",
       "    </tr>\n",
       "    <tr>\n",
       "      <th>...</th>\n",
       "      <td>...</td>\n",
       "    </tr>\n",
       "    <tr>\n",
       "      <th>1735</th>\n",
       "      <td>776.077192</td>\n",
       "    </tr>\n",
       "    <tr>\n",
       "      <th>1736</th>\n",
       "      <td>484.980230</td>\n",
       "    </tr>\n",
       "    <tr>\n",
       "      <th>1737</th>\n",
       "      <td>489.600000</td>\n",
       "    </tr>\n",
       "    <tr>\n",
       "      <th>1738</th>\n",
       "      <td>112.660916</td>\n",
       "    </tr>\n",
       "    <tr>\n",
       "      <th>1739</th>\n",
       "      <td>285.929049</td>\n",
       "    </tr>\n",
       "  </tbody>\n",
       "</table>\n",
       "<p>1740 rows × 1 columns</p>\n",
       "</div>"
      ],
      "text/plain": [
       "     total_claim_amount\n",
       "0            416.906660\n",
       "1            534.347491\n",
       "2            369.818708\n",
       "3            227.454064\n",
       "4            317.481409\n",
       "...                 ...\n",
       "1735         776.077192\n",
       "1736         484.980230\n",
       "1737         489.600000\n",
       "1738         112.660916\n",
       "1739         285.929049\n",
       "\n",
       "[1740 rows x 1 columns]"
      ]
     },
     "execution_count": 130,
     "metadata": {},
     "output_type": "execute_result"
    }
   ],
   "source": [
    "predictions_df"
   ]
  },
  {
   "cell_type": "code",
   "execution_count": null,
   "id": "84af4e3c",
   "metadata": {},
   "outputs": [],
   "source": []
  }
 ],
 "metadata": {
  "kernelspec": {
   "display_name": "Python 3",
   "language": "python",
   "name": "python3"
  },
  "language_info": {
   "codemirror_mode": {
    "name": "ipython",
    "version": 3
   },
   "file_extension": ".py",
   "mimetype": "text/x-python",
   "name": "python",
   "nbconvert_exporter": "python",
   "pygments_lexer": "ipython3",
   "version": "3.8.8"
  }
 },
 "nbformat": 4,
 "nbformat_minor": 5
}
