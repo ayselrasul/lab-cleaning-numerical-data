{
 "cells": [
  {
   "cell_type": "markdown",
   "id": "22f38702",
   "metadata": {},
   "source": [
    "## Importing libraries and dateset"
   ]
  },
  {
   "cell_type": "code",
   "execution_count": 44,
   "id": "7fc951ee",
   "metadata": {},
   "outputs": [],
   "source": [
    "import pandas as pd\n",
    "import numpy as np\n",
    "import warnings\n",
    "warnings.filterwarnings('ignore')\n",
    "import matplotlib.pyplot as plt\n",
    "import seaborn as sns"
   ]
  },
  {
   "cell_type": "code",
   "execution_count": 45,
   "id": "725dfb16",
   "metadata": {},
   "outputs": [],
   "source": [
    "customer_df_cleaned = pd.read_csv('customer_df_cleaned.csv',index_col=[0])\n",
    "customer_df_cleaned = customer_df_cleaned.drop(['index'],axis = 1)"
   ]
  },
  {
   "cell_type": "code",
   "execution_count": 46,
   "id": "5d7bdba9",
   "metadata": {},
   "outputs": [
    {
     "data": {
      "text/html": [
       "<div>\n",
       "<style scoped>\n",
       "    .dataframe tbody tr th:only-of-type {\n",
       "        vertical-align: middle;\n",
       "    }\n",
       "\n",
       "    .dataframe tbody tr th {\n",
       "        vertical-align: top;\n",
       "    }\n",
       "\n",
       "    .dataframe thead th {\n",
       "        text-align: right;\n",
       "    }\n",
       "</style>\n",
       "<table border=\"1\" class=\"dataframe\">\n",
       "  <thead>\n",
       "    <tr style=\"text-align: right;\">\n",
       "      <th></th>\n",
       "      <th>state</th>\n",
       "      <th>customer_lifetime_value</th>\n",
       "      <th>response</th>\n",
       "      <th>coverage</th>\n",
       "      <th>education</th>\n",
       "      <th>effective_to_date</th>\n",
       "      <th>employmentstatus</th>\n",
       "      <th>gender</th>\n",
       "      <th>income</th>\n",
       "      <th>location_code</th>\n",
       "      <th>...</th>\n",
       "      <th>months_since_policy_inception</th>\n",
       "      <th>number_of_open_complaints</th>\n",
       "      <th>number_of_policies</th>\n",
       "      <th>policy_type</th>\n",
       "      <th>policy</th>\n",
       "      <th>renew_offer_type</th>\n",
       "      <th>sales_channel</th>\n",
       "      <th>total_claim_amount</th>\n",
       "      <th>vehicle_class</th>\n",
       "      <th>vehicle_size</th>\n",
       "    </tr>\n",
       "  </thead>\n",
       "  <tbody>\n",
       "    <tr>\n",
       "      <th>0</th>\n",
       "      <td>Washington</td>\n",
       "      <td>2763.519279</td>\n",
       "      <td>No</td>\n",
       "      <td>Basic</td>\n",
       "      <td>Bachelor</td>\n",
       "      <td>2011-02-24</td>\n",
       "      <td>Employed</td>\n",
       "      <td>F</td>\n",
       "      <td>56274.0</td>\n",
       "      <td>Suburban</td>\n",
       "      <td>...</td>\n",
       "      <td>5</td>\n",
       "      <td>0</td>\n",
       "      <td>1</td>\n",
       "      <td>Corporate Auto</td>\n",
       "      <td>Corporate L3</td>\n",
       "      <td>Offer1</td>\n",
       "      <td>Agent</td>\n",
       "      <td>384.811147</td>\n",
       "      <td>Two-Door Car</td>\n",
       "      <td>Medsize</td>\n",
       "    </tr>\n",
       "    <tr>\n",
       "      <th>1</th>\n",
       "      <td>Arizona</td>\n",
       "      <td>6979.535903</td>\n",
       "      <td>No</td>\n",
       "      <td>Extended</td>\n",
       "      <td>Bachelor</td>\n",
       "      <td>2011-01-31</td>\n",
       "      <td>Unemployed</td>\n",
       "      <td>F</td>\n",
       "      <td>0.0</td>\n",
       "      <td>Suburban</td>\n",
       "      <td>...</td>\n",
       "      <td>42</td>\n",
       "      <td>0</td>\n",
       "      <td>8</td>\n",
       "      <td>Personal Auto</td>\n",
       "      <td>Personal L3</td>\n",
       "      <td>Offer3</td>\n",
       "      <td>Agent</td>\n",
       "      <td>1131.464935</td>\n",
       "      <td>Four-Door Car</td>\n",
       "      <td>Medsize</td>\n",
       "    </tr>\n",
       "    <tr>\n",
       "      <th>2</th>\n",
       "      <td>Nevada</td>\n",
       "      <td>12887.431650</td>\n",
       "      <td>No</td>\n",
       "      <td>Premium</td>\n",
       "      <td>Bachelor</td>\n",
       "      <td>2011-02-19</td>\n",
       "      <td>Employed</td>\n",
       "      <td>F</td>\n",
       "      <td>48767.0</td>\n",
       "      <td>Suburban</td>\n",
       "      <td>...</td>\n",
       "      <td>38</td>\n",
       "      <td>0</td>\n",
       "      <td>2</td>\n",
       "      <td>Personal Auto</td>\n",
       "      <td>Personal L3</td>\n",
       "      <td>Offer1</td>\n",
       "      <td>Agent</td>\n",
       "      <td>566.472247</td>\n",
       "      <td>Two-Door Car</td>\n",
       "      <td>Medsize</td>\n",
       "    </tr>\n",
       "    <tr>\n",
       "      <th>3</th>\n",
       "      <td>California</td>\n",
       "      <td>7645.861827</td>\n",
       "      <td>No</td>\n",
       "      <td>Basic</td>\n",
       "      <td>Bachelor</td>\n",
       "      <td>2011-01-20</td>\n",
       "      <td>Unemployed</td>\n",
       "      <td>M</td>\n",
       "      <td>0.0</td>\n",
       "      <td>Suburban</td>\n",
       "      <td>...</td>\n",
       "      <td>65</td>\n",
       "      <td>0</td>\n",
       "      <td>7</td>\n",
       "      <td>Corporate Auto</td>\n",
       "      <td>Corporate L2</td>\n",
       "      <td>Offer1</td>\n",
       "      <td>Call Center</td>\n",
       "      <td>529.881344</td>\n",
       "      <td>SUV</td>\n",
       "      <td>Medsize</td>\n",
       "    </tr>\n",
       "    <tr>\n",
       "      <th>4</th>\n",
       "      <td>Washington</td>\n",
       "      <td>2813.692575</td>\n",
       "      <td>No</td>\n",
       "      <td>Basic</td>\n",
       "      <td>Bachelor</td>\n",
       "      <td>2011-02-03</td>\n",
       "      <td>Employed</td>\n",
       "      <td>M</td>\n",
       "      <td>43836.0</td>\n",
       "      <td>Rural</td>\n",
       "      <td>...</td>\n",
       "      <td>44</td>\n",
       "      <td>0</td>\n",
       "      <td>1</td>\n",
       "      <td>Personal Auto</td>\n",
       "      <td>Personal L1</td>\n",
       "      <td>Offer1</td>\n",
       "      <td>Agent</td>\n",
       "      <td>138.130879</td>\n",
       "      <td>Four-Door Car</td>\n",
       "      <td>Medsize</td>\n",
       "    </tr>\n",
       "    <tr>\n",
       "      <th>...</th>\n",
       "      <td>...</td>\n",
       "      <td>...</td>\n",
       "      <td>...</td>\n",
       "      <td>...</td>\n",
       "      <td>...</td>\n",
       "      <td>...</td>\n",
       "      <td>...</td>\n",
       "      <td>...</td>\n",
       "      <td>...</td>\n",
       "      <td>...</td>\n",
       "      <td>...</td>\n",
       "      <td>...</td>\n",
       "      <td>...</td>\n",
       "      <td>...</td>\n",
       "      <td>...</td>\n",
       "      <td>...</td>\n",
       "      <td>...</td>\n",
       "      <td>...</td>\n",
       "      <td>...</td>\n",
       "      <td>...</td>\n",
       "      <td>...</td>\n",
       "    </tr>\n",
       "    <tr>\n",
       "      <th>8692</th>\n",
       "      <td>California</td>\n",
       "      <td>23405.987980</td>\n",
       "      <td>No</td>\n",
       "      <td>Basic</td>\n",
       "      <td>Bachelor</td>\n",
       "      <td>2011-02-10</td>\n",
       "      <td>Employed</td>\n",
       "      <td>M</td>\n",
       "      <td>71941.0</td>\n",
       "      <td>Urban</td>\n",
       "      <td>...</td>\n",
       "      <td>89</td>\n",
       "      <td>0</td>\n",
       "      <td>2</td>\n",
       "      <td>Personal Auto</td>\n",
       "      <td>Personal L1</td>\n",
       "      <td>Offer2</td>\n",
       "      <td>Web</td>\n",
       "      <td>198.234764</td>\n",
       "      <td>Four-Door Car</td>\n",
       "      <td>Medsize</td>\n",
       "    </tr>\n",
       "    <tr>\n",
       "      <th>8693</th>\n",
       "      <td>California</td>\n",
       "      <td>3096.511217</td>\n",
       "      <td>Yes</td>\n",
       "      <td>Extended</td>\n",
       "      <td>College</td>\n",
       "      <td>2011-02-12</td>\n",
       "      <td>Employed</td>\n",
       "      <td>F</td>\n",
       "      <td>21604.0</td>\n",
       "      <td>Suburban</td>\n",
       "      <td>...</td>\n",
       "      <td>28</td>\n",
       "      <td>0</td>\n",
       "      <td>1</td>\n",
       "      <td>Corporate Auto</td>\n",
       "      <td>Corporate L3</td>\n",
       "      <td>Offer1</td>\n",
       "      <td>Branch</td>\n",
       "      <td>379.200000</td>\n",
       "      <td>Four-Door Car</td>\n",
       "      <td>Medsize</td>\n",
       "    </tr>\n",
       "    <tr>\n",
       "      <th>8694</th>\n",
       "      <td>California</td>\n",
       "      <td>8163.890428</td>\n",
       "      <td>No</td>\n",
       "      <td>Extended</td>\n",
       "      <td>Bachelor</td>\n",
       "      <td>2011-02-06</td>\n",
       "      <td>Unemployed</td>\n",
       "      <td>M</td>\n",
       "      <td>0.0</td>\n",
       "      <td>Suburban</td>\n",
       "      <td>...</td>\n",
       "      <td>37</td>\n",
       "      <td>3</td>\n",
       "      <td>2</td>\n",
       "      <td>Corporate Auto</td>\n",
       "      <td>Corporate L2</td>\n",
       "      <td>Offer1</td>\n",
       "      <td>Branch</td>\n",
       "      <td>790.784983</td>\n",
       "      <td>Four-Door Car</td>\n",
       "      <td>Medsize</td>\n",
       "    </tr>\n",
       "    <tr>\n",
       "      <th>8695</th>\n",
       "      <td>California</td>\n",
       "      <td>7524.442436</td>\n",
       "      <td>No</td>\n",
       "      <td>Extended</td>\n",
       "      <td>College</td>\n",
       "      <td>2011-02-03</td>\n",
       "      <td>Employed</td>\n",
       "      <td>M</td>\n",
       "      <td>21941.0</td>\n",
       "      <td>Suburban</td>\n",
       "      <td>...</td>\n",
       "      <td>3</td>\n",
       "      <td>0</td>\n",
       "      <td>3</td>\n",
       "      <td>Personal Auto</td>\n",
       "      <td>Personal L2</td>\n",
       "      <td>Offer3</td>\n",
       "      <td>Branch</td>\n",
       "      <td>691.200000</td>\n",
       "      <td>Four-Door Car</td>\n",
       "      <td>Large</td>\n",
       "    </tr>\n",
       "    <tr>\n",
       "      <th>8696</th>\n",
       "      <td>California</td>\n",
       "      <td>2611.836866</td>\n",
       "      <td>No</td>\n",
       "      <td>Extended</td>\n",
       "      <td>College</td>\n",
       "      <td>2011-02-14</td>\n",
       "      <td>Unemployed</td>\n",
       "      <td>M</td>\n",
       "      <td>0.0</td>\n",
       "      <td>Suburban</td>\n",
       "      <td>...</td>\n",
       "      <td>90</td>\n",
       "      <td>0</td>\n",
       "      <td>1</td>\n",
       "      <td>Corporate Auto</td>\n",
       "      <td>Corporate L3</td>\n",
       "      <td>Offer4</td>\n",
       "      <td>Call Center</td>\n",
       "      <td>369.600000</td>\n",
       "      <td>Two-Door Car</td>\n",
       "      <td>Medsize</td>\n",
       "    </tr>\n",
       "  </tbody>\n",
       "</table>\n",
       "<p>8697 rows × 23 columns</p>\n",
       "</div>"
      ],
      "text/plain": [
       "           state  customer_lifetime_value response  coverage education  \\\n",
       "0     Washington              2763.519279       No     Basic  Bachelor   \n",
       "1        Arizona              6979.535903       No  Extended  Bachelor   \n",
       "2         Nevada             12887.431650       No   Premium  Bachelor   \n",
       "3     California              7645.861827       No     Basic  Bachelor   \n",
       "4     Washington              2813.692575       No     Basic  Bachelor   \n",
       "...          ...                      ...      ...       ...       ...   \n",
       "8692  California             23405.987980       No     Basic  Bachelor   \n",
       "8693  California              3096.511217      Yes  Extended   College   \n",
       "8694  California              8163.890428       No  Extended  Bachelor   \n",
       "8695  California              7524.442436       No  Extended   College   \n",
       "8696  California              2611.836866       No  Extended   College   \n",
       "\n",
       "     effective_to_date employmentstatus gender   income location_code  ...  \\\n",
       "0           2011-02-24         Employed      F  56274.0      Suburban  ...   \n",
       "1           2011-01-31       Unemployed      F      0.0      Suburban  ...   \n",
       "2           2011-02-19         Employed      F  48767.0      Suburban  ...   \n",
       "3           2011-01-20       Unemployed      M      0.0      Suburban  ...   \n",
       "4           2011-02-03         Employed      M  43836.0         Rural  ...   \n",
       "...                ...              ...    ...      ...           ...  ...   \n",
       "8692        2011-02-10         Employed      M  71941.0         Urban  ...   \n",
       "8693        2011-02-12         Employed      F  21604.0      Suburban  ...   \n",
       "8694        2011-02-06       Unemployed      M      0.0      Suburban  ...   \n",
       "8695        2011-02-03         Employed      M  21941.0      Suburban  ...   \n",
       "8696        2011-02-14       Unemployed      M      0.0      Suburban  ...   \n",
       "\n",
       "     months_since_policy_inception  number_of_open_complaints  \\\n",
       "0                                5                          0   \n",
       "1                               42                          0   \n",
       "2                               38                          0   \n",
       "3                               65                          0   \n",
       "4                               44                          0   \n",
       "...                            ...                        ...   \n",
       "8692                            89                          0   \n",
       "8693                            28                          0   \n",
       "8694                            37                          3   \n",
       "8695                             3                          0   \n",
       "8696                            90                          0   \n",
       "\n",
       "      number_of_policies     policy_type        policy  renew_offer_type  \\\n",
       "0                      1  Corporate Auto  Corporate L3            Offer1   \n",
       "1                      8   Personal Auto   Personal L3            Offer3   \n",
       "2                      2   Personal Auto   Personal L3            Offer1   \n",
       "3                      7  Corporate Auto  Corporate L2            Offer1   \n",
       "4                      1   Personal Auto   Personal L1            Offer1   \n",
       "...                  ...             ...           ...               ...   \n",
       "8692                   2   Personal Auto   Personal L1            Offer2   \n",
       "8693                   1  Corporate Auto  Corporate L3            Offer1   \n",
       "8694                   2  Corporate Auto  Corporate L2            Offer1   \n",
       "8695                   3   Personal Auto   Personal L2            Offer3   \n",
       "8696                   1  Corporate Auto  Corporate L3            Offer4   \n",
       "\n",
       "     sales_channel total_claim_amount  vehicle_class vehicle_size  \n",
       "0            Agent         384.811147   Two-Door Car      Medsize  \n",
       "1            Agent        1131.464935  Four-Door Car      Medsize  \n",
       "2            Agent         566.472247   Two-Door Car      Medsize  \n",
       "3      Call Center         529.881344            SUV      Medsize  \n",
       "4            Agent         138.130879  Four-Door Car      Medsize  \n",
       "...            ...                ...            ...          ...  \n",
       "8692           Web         198.234764  Four-Door Car      Medsize  \n",
       "8693        Branch         379.200000  Four-Door Car      Medsize  \n",
       "8694        Branch         790.784983  Four-Door Car      Medsize  \n",
       "8695        Branch         691.200000  Four-Door Car        Large  \n",
       "8696   Call Center         369.600000   Two-Door Car      Medsize  \n",
       "\n",
       "[8697 rows x 23 columns]"
      ]
     },
     "execution_count": 46,
     "metadata": {},
     "output_type": "execute_result"
    }
   ],
   "source": [
    "customer_df_cleaned"
   ]
  },
  {
   "cell_type": "raw",
   "id": "d129ffee",
   "metadata": {},
   "source": [
    "Instructions:\n",
    "\n",
    "1.Open the categoricals variable we created before\n",
    "categoricals = data.select_dtypes(np.object)\n",
    "categoricals.head()\n",
    "\n",
    "2.Plot all the categorical variables with the proper plot. What can you see?\n",
    "\n",
    "3.There might be some columns that seem to be redundant, check their values to be sure. What should we do with them?\n",
    "Plot time variable. Can you extract something from it?"
   ]
  },
  {
   "cell_type": "markdown",
   "id": "49ab60ea",
   "metadata": {},
   "source": [
    "## 1.Open the categoricals variable we created before "
   ]
  },
  {
   "cell_type": "code",
   "execution_count": 47,
   "id": "b451442d",
   "metadata": {},
   "outputs": [
    {
     "data": {
      "text/html": [
       "<div>\n",
       "<style scoped>\n",
       "    .dataframe tbody tr th:only-of-type {\n",
       "        vertical-align: middle;\n",
       "    }\n",
       "\n",
       "    .dataframe tbody tr th {\n",
       "        vertical-align: top;\n",
       "    }\n",
       "\n",
       "    .dataframe thead th {\n",
       "        text-align: right;\n",
       "    }\n",
       "</style>\n",
       "<table border=\"1\" class=\"dataframe\">\n",
       "  <thead>\n",
       "    <tr style=\"text-align: right;\">\n",
       "      <th></th>\n",
       "      <th>state</th>\n",
       "      <th>response</th>\n",
       "      <th>coverage</th>\n",
       "      <th>education</th>\n",
       "      <th>effective_to_date</th>\n",
       "      <th>employmentstatus</th>\n",
       "      <th>gender</th>\n",
       "      <th>location_code</th>\n",
       "      <th>marital_status</th>\n",
       "      <th>policy_type</th>\n",
       "      <th>policy</th>\n",
       "      <th>renew_offer_type</th>\n",
       "      <th>sales_channel</th>\n",
       "      <th>vehicle_class</th>\n",
       "      <th>vehicle_size</th>\n",
       "    </tr>\n",
       "  </thead>\n",
       "  <tbody>\n",
       "    <tr>\n",
       "      <th>0</th>\n",
       "      <td>Washington</td>\n",
       "      <td>No</td>\n",
       "      <td>Basic</td>\n",
       "      <td>Bachelor</td>\n",
       "      <td>2011-02-24</td>\n",
       "      <td>Employed</td>\n",
       "      <td>F</td>\n",
       "      <td>Suburban</td>\n",
       "      <td>Married</td>\n",
       "      <td>Corporate Auto</td>\n",
       "      <td>Corporate L3</td>\n",
       "      <td>Offer1</td>\n",
       "      <td>Agent</td>\n",
       "      <td>Two-Door Car</td>\n",
       "      <td>Medsize</td>\n",
       "    </tr>\n",
       "    <tr>\n",
       "      <th>1</th>\n",
       "      <td>Arizona</td>\n",
       "      <td>No</td>\n",
       "      <td>Extended</td>\n",
       "      <td>Bachelor</td>\n",
       "      <td>2011-01-31</td>\n",
       "      <td>Unemployed</td>\n",
       "      <td>F</td>\n",
       "      <td>Suburban</td>\n",
       "      <td>Single</td>\n",
       "      <td>Personal Auto</td>\n",
       "      <td>Personal L3</td>\n",
       "      <td>Offer3</td>\n",
       "      <td>Agent</td>\n",
       "      <td>Four-Door Car</td>\n",
       "      <td>Medsize</td>\n",
       "    </tr>\n",
       "    <tr>\n",
       "      <th>2</th>\n",
       "      <td>Nevada</td>\n",
       "      <td>No</td>\n",
       "      <td>Premium</td>\n",
       "      <td>Bachelor</td>\n",
       "      <td>2011-02-19</td>\n",
       "      <td>Employed</td>\n",
       "      <td>F</td>\n",
       "      <td>Suburban</td>\n",
       "      <td>Married</td>\n",
       "      <td>Personal Auto</td>\n",
       "      <td>Personal L3</td>\n",
       "      <td>Offer1</td>\n",
       "      <td>Agent</td>\n",
       "      <td>Two-Door Car</td>\n",
       "      <td>Medsize</td>\n",
       "    </tr>\n",
       "    <tr>\n",
       "      <th>3</th>\n",
       "      <td>California</td>\n",
       "      <td>No</td>\n",
       "      <td>Basic</td>\n",
       "      <td>Bachelor</td>\n",
       "      <td>2011-01-20</td>\n",
       "      <td>Unemployed</td>\n",
       "      <td>M</td>\n",
       "      <td>Suburban</td>\n",
       "      <td>Married</td>\n",
       "      <td>Corporate Auto</td>\n",
       "      <td>Corporate L2</td>\n",
       "      <td>Offer1</td>\n",
       "      <td>Call Center</td>\n",
       "      <td>SUV</td>\n",
       "      <td>Medsize</td>\n",
       "    </tr>\n",
       "    <tr>\n",
       "      <th>4</th>\n",
       "      <td>Washington</td>\n",
       "      <td>No</td>\n",
       "      <td>Basic</td>\n",
       "      <td>Bachelor</td>\n",
       "      <td>2011-02-03</td>\n",
       "      <td>Employed</td>\n",
       "      <td>M</td>\n",
       "      <td>Rural</td>\n",
       "      <td>Single</td>\n",
       "      <td>Personal Auto</td>\n",
       "      <td>Personal L1</td>\n",
       "      <td>Offer1</td>\n",
       "      <td>Agent</td>\n",
       "      <td>Four-Door Car</td>\n",
       "      <td>Medsize</td>\n",
       "    </tr>\n",
       "  </tbody>\n",
       "</table>\n",
       "</div>"
      ],
      "text/plain": [
       "        state response  coverage education effective_to_date employmentstatus  \\\n",
       "0  Washington       No     Basic  Bachelor        2011-02-24         Employed   \n",
       "1     Arizona       No  Extended  Bachelor        2011-01-31       Unemployed   \n",
       "2      Nevada       No   Premium  Bachelor        2011-02-19         Employed   \n",
       "3  California       No     Basic  Bachelor        2011-01-20       Unemployed   \n",
       "4  Washington       No     Basic  Bachelor        2011-02-03         Employed   \n",
       "\n",
       "  gender location_code marital_status     policy_type        policy  \\\n",
       "0      F      Suburban        Married  Corporate Auto  Corporate L3   \n",
       "1      F      Suburban         Single   Personal Auto   Personal L3   \n",
       "2      F      Suburban        Married   Personal Auto   Personal L3   \n",
       "3      M      Suburban        Married  Corporate Auto  Corporate L2   \n",
       "4      M         Rural         Single   Personal Auto   Personal L1   \n",
       "\n",
       "  renew_offer_type sales_channel  vehicle_class vehicle_size  \n",
       "0           Offer1         Agent   Two-Door Car      Medsize  \n",
       "1           Offer3         Agent  Four-Door Car      Medsize  \n",
       "2           Offer1         Agent   Two-Door Car      Medsize  \n",
       "3           Offer1   Call Center            SUV      Medsize  \n",
       "4           Offer1         Agent  Four-Door Car      Medsize  "
      ]
     },
     "execution_count": 47,
     "metadata": {},
     "output_type": "execute_result"
    }
   ],
   "source": [
    "categoricals = customer_df_cleaned.select_dtypes(np.object)\n",
    "categoricals.head()"
   ]
  },
  {
   "cell_type": "code",
   "execution_count": null,
   "id": "02b57496",
   "metadata": {},
   "outputs": [],
   "source": []
  },
  {
   "cell_type": "markdown",
   "id": "e96cf360",
   "metadata": {},
   "source": [
    "## 2.Plot all the categorical variables with the proper plot. What can you see?"
   ]
  },
  {
   "cell_type": "code",
   "execution_count": 48,
   "id": "4e792f63",
   "metadata": {
    "scrolled": false
   },
   "outputs": [
    {
     "name": "stdout",
     "output_type": "stream",
     "text": [
      "STATE\n"
     ]
    },
    {
     "data": {
      "image/png": "[encoded data removed]",
      "text/plain": [
       "<Figure size 432x288 with 1 Axes>"
      ]
     },
     "metadata": {
      "needs_background": "light"
     },
     "output_type": "display_data"
    },
    {
     "name": "stdout",
     "output_type": "stream",
     "text": [
      "RESPONSE\n"
     ]
    },
    {
     "data": {
      "image/png": "[encoded data removed]",
      "text/plain": [
       "<Figure size 432x288 with 1 Axes>"
      ]
     },
     "metadata": {
      "needs_background": "light"
     },
     "output_type": "display_data"
    },
    {
     "name": "stdout",
     "output_type": "stream",
     "text": [
      "COVERAGE\n"
     ]
    },
    {
     "data": {
      "image/png": "[encoded data removed]",
      "text/plain": [
       "<Figure size 432x288 with 1 Axes>"
      ]
     },
     "metadata": {
      "needs_background": "light"
     },
     "output_type": "display_data"
    },
    {
     "name": "stdout",
     "output_type": "stream",
     "text": [
      "EDUCATION\n"
     ]
    },
    {
     "data": {
      "image/png": "[encoded data removed]",
      "text/plain": [
       "<Figure size 432x288 with 1 Axes>"
      ]
     },
     "metadata": {
      "needs_background": "light"
     },
     "output_type": "display_data"
    },
    {
     "name": "stdout",
     "output_type": "stream",
     "text": [
      "EMPLOYMENTSTATUS\n"
     ]
    },
    {
     "data": {
      "image/png": "[encoded data removed]",
      "text/plain": [
       "<Figure size 432x288 with 1 Axes>"
      ]
     },
     "metadata": {
      "needs_background": "light"
     },
     "output_type": "display_data"
    },
    {
     "name": "stdout",
     "output_type": "stream",
     "text": [
      "GENDER\n"
     ]
    },
    {
     "data": {
      "image/png": "[encoded data removed]",
      "text/plain": [
       "<Figure size 432x288 with 1 Axes>"
      ]
     },
     "metadata": {
      "needs_background": "light"
     },
     "output_type": "display_data"
    },
    {
     "name": "stdout",
     "output_type": "stream",
     "text": [
      "LOCATION_CODE\n"
     ]
    },
    {
     "data": {
      "image/png": "[encoded data removed]",
      "text/plain": [
       "<Figure size 432x288 with 1 Axes>"
      ]
     },
     "metadata": {
      "needs_background": "light"
     },
     "output_type": "display_data"
    },
    {
     "name": "stdout",
     "output_type": "stream",
     "text": [
      "MARITAL_STATUS\n"
     ]
    },
    {
     "data": {
      "image/png": "[encoded data removed]",
      "text/plain": [
       "<Figure size 432x288 with 1 Axes>"
      ]
     },
     "metadata": {
      "needs_background": "light"
     },
     "output_type": "display_data"
    },
    {
     "name": "stdout",
     "output_type": "stream",
     "text": [
      "POLICY_TYPE\n"
     ]
    },
    {
     "data": {
      "image/png": "[encoded data removed]",
      "text/plain": [
       "<Figure size 432x288 with 1 Axes>"
      ]
     },
     "metadata": {
      "needs_background": "light"
     },
     "output_type": "display_data"
    },
    {
     "name": "stdout",
     "output_type": "stream",
     "text": [
      "POLICY\n"
     ]
    },
    {
     "data": {
      "image/png": "[encoded data removed]",
      "text/plain": [
       "<Figure size 432x288 with 1 Axes>"
      ]
     },
     "metadata": {
      "needs_background": "light"
     },
     "output_type": "display_data"
    },
    {
     "name": "stdout",
     "output_type": "stream",
     "text": [
      "RENEW_OFFER_TYPE\n"
     ]
    },
    {
     "data": {
      "image/png": "[encoded data removed]",
      "text/plain": [
       "<Figure size 432x288 with 1 Axes>"
      ]
     },
     "metadata": {
      "needs_background": "light"
     },
     "output_type": "display_data"
    },
    {
     "name": "stdout",
     "output_type": "stream",
     "text": [
      "SALES_CHANNEL\n"
     ]
    },
    {
     "data": {
      "image/png": "[encoded data removed]",
      "text/plain": [
       "<Figure size 432x288 with 1 Axes>"
      ]
     },
     "metadata": {
      "needs_background": "light"
     },
     "output_type": "display_data"
    },
    {
     "name": "stdout",
     "output_type": "stream",
     "text": [
      "VEHICLE_CLASS\n"
     ]
    },
    {
     "data": {
      "image/png": "[encoded data removed]",
      "text/plain": [
       "<Figure size 432x288 with 1 Axes>"
      ]
     },
     "metadata": {
      "needs_background": "light"
     },
     "output_type": "display_data"
    },
    {
     "name": "stdout",
     "output_type": "stream",
     "text": [
      "VEHICLE_SIZE\n"
     ]
    },
    {
     "data": {
      "image/png": "[encoded data removed]",
      "text/plain": [
       "<Figure size 432x288 with 1 Axes>"
      ]
     },
     "metadata": {
      "needs_background": "light"
     },
     "output_type": "display_data"
    }
   ],
   "source": [
    "for column in categoricals.columns:\n",
    "    if column == 'effective_to_date':  ##we will plot this column in the next exercise\n",
    "        continue\n",
    "    sns.countplot(x = categoricals[column])\n",
    "    print(column.upper())\n",
    "    plt.show()"
   ]
  },
  {
   "cell_type": "code",
   "execution_count": null,
   "id": "1fc42d96",
   "metadata": {},
   "outputs": [],
   "source": []
  },
  {
   "cell_type": "markdown",
   "id": "40d19df4",
   "metadata": {},
   "source": [
    "## 3.There might be some columns that seem to be redundant, check their values to be sure. What should we do with them?\n"
   ]
  },
  {
   "cell_type": "code",
   "execution_count": 49,
   "id": "d8212762",
   "metadata": {},
   "outputs": [
    {
     "name": "stdout",
     "output_type": "stream",
     "text": [
      "********* STATE ***************\n",
      "California    3010\n",
      "Oregon        2478\n",
      "Arizona       1624\n",
      "Nevada         833\n",
      "Washington     752\n",
      "Name: state, dtype: int64\n",
      "---------------------------------------------\n",
      "********* RESPONSE ***************\n",
      "No     7461\n",
      "Yes    1236\n",
      "Name: response, dtype: int64\n",
      "---------------------------------------------\n",
      "********* COVERAGE ***************\n",
      "Basic       5398\n",
      "Extended    2566\n",
      "Premium      733\n",
      "Name: coverage, dtype: int64\n",
      "---------------------------------------------\n",
      "********* EDUCATION ***************\n",
      "Bachelor                2616\n",
      "College                 2577\n",
      "High School or Below    2474\n",
      "Master                   704\n",
      "Doctor                   326\n",
      "Name: education, dtype: int64\n",
      "---------------------------------------------\n",
      "********* EMPLOYMENTSTATUS ***************\n",
      "Employed         5405\n",
      "Unemployed       2231\n",
      "Medical Leave     409\n",
      "Disabled          386\n",
      "Retired           266\n",
      "Name: employmentstatus, dtype: int64\n",
      "---------------------------------------------\n",
      "********* GENDER ***************\n",
      "F    4409\n",
      "M    4288\n",
      "Name: gender, dtype: int64\n",
      "---------------------------------------------\n",
      "********* LOCATION_CODE ***************\n",
      "Suburban    5487\n",
      "Rural       1704\n",
      "Urban       1506\n",
      "Name: location_code, dtype: int64\n",
      "---------------------------------------------\n",
      "********* MARITAL_STATUS ***************\n",
      "Married     5062\n",
      "Single      2358\n",
      "Divorced    1277\n",
      "Name: marital_status, dtype: int64\n",
      "---------------------------------------------\n",
      "********* POLICY_TYPE ***************\n",
      "Personal Auto     6454\n",
      "Corporate Auto    1885\n",
      "Special Auto       358\n",
      "Name: policy_type, dtype: int64\n",
      "---------------------------------------------\n",
      "********* POLICY ***************\n",
      "Personal L3     3258\n",
      "Personal L2     2014\n",
      "Personal L1     1182\n",
      "Corporate L3     971\n",
      "Corporate L2     574\n",
      "Corporate L1     340\n",
      "Special L2       155\n",
      "Special L3       139\n",
      "Special L1        64\n",
      "Name: policy, dtype: int64\n",
      "---------------------------------------------\n",
      "********* RENEW_OFFER_TYPE ***************\n",
      "Offer1    3544\n",
      "Offer2    2803\n",
      "Offer3    1368\n",
      "Offer4     982\n",
      "Name: renew_offer_type, dtype: int64\n",
      "---------------------------------------------\n",
      "********* SALES_CHANNEL ***************\n",
      "Agent          3310\n",
      "Branch         2449\n",
      "Call Center    1676\n",
      "Web            1262\n",
      "Name: sales_channel, dtype: int64\n",
      "---------------------------------------------\n",
      "********* VEHICLE_CLASS ***************\n",
      "Four-Door Car    4523\n",
      "Two-Door Car     1851\n",
      "SUV              1664\n",
      "Sports Car        438\n",
      "Luxury SUV        116\n",
      "Luxury Car        105\n",
      "Name: vehicle_class, dtype: int64\n",
      "---------------------------------------------\n",
      "********* VEHICLE_SIZE ***************\n",
      "Medsize    6114\n",
      "Small      1670\n",
      "Large       913\n",
      "Name: vehicle_size, dtype: int64\n",
      "---------------------------------------------\n"
     ]
    }
   ],
   "source": [
    "for column in categoricals.columns:\n",
    "    if column!='effective_to_date':\n",
    "        print('*********', column.upper(), '***************')\n",
    "        print(categoricals[column].value_counts())\n",
    "        print('---------------------------------------------')"
   ]
  },
  {
   "cell_type": "code",
   "execution_count": null,
   "id": "044ef64a",
   "metadata": {},
   "outputs": [],
   "source": []
  },
  {
   "cell_type": "code",
   "execution_count": null,
   "id": "e3ba9ad7",
   "metadata": {},
   "outputs": [],
   "source": []
  },
  {
   "cell_type": "markdown",
   "id": "4eb4c688",
   "metadata": {},
   "source": [
    "## 4.Plot time variable. Can you extract something from it?"
   ]
  },
  {
   "cell_type": "code",
   "execution_count": 50,
   "id": "b95483a8",
   "metadata": {},
   "outputs": [
    {
     "data": {
      "text/plain": [
       "0   2011-02-24\n",
       "1   2011-01-31\n",
       "2   2011-02-19\n",
       "3   2011-01-20\n",
       "4   2011-02-03\n",
       "5   2011-01-25\n",
       "6   2011-02-24\n",
       "7   2011-01-18\n",
       "8   2011-02-17\n",
       "9   2011-02-21\n",
       "Name: effective_to_date, dtype: datetime64[ns]"
      ]
     },
     "execution_count": 50,
     "metadata": {},
     "output_type": "execute_result"
    }
   ],
   "source": [
    "customer_df_cleaned['effective_to_date'] = pd.to_datetime(customer_df_cleaned['effective_to_date'], errors='coerce')\n",
    "customer_df_cleaned['effective_to_date'].head(10)"
   ]
  },
  {
   "cell_type": "code",
   "execution_count": 51,
   "id": "a38d8cf6",
   "metadata": {},
   "outputs": [
    {
     "data": {
      "text/plain": [
       "<AxesSubplot:ylabel='effective_to_date'>"
      ]
     },
     "execution_count": 51,
     "metadata": {},
     "output_type": "execute_result"
    },
    {
     "data": {
      "image/png": "[encoded data removed]",
      "text/plain": [
       "<Figure size 1152x576 with 1 Axes>"
      ]
     },
     "metadata": {
      "needs_background": "light"
     },
     "output_type": "display_data"
    }
   ],
   "source": [
    "fig, ax = plt.subplots(figsize=(16, 8))\n",
    "sns.lineplot(x=customer_df_cleaned['effective_to_date'].unique(), y = customer_df_cleaned['effective_to_date'].value_counts())"
   ]
  },
  {
   "cell_type": "code",
   "execution_count": null,
   "id": "db85e50c",
   "metadata": {},
   "outputs": [],
   "source": []
  },
  {
   "cell_type": "code",
   "execution_count": null,
   "id": "1f83ce43",
   "metadata": {},
   "outputs": [],
   "source": []
  }
 ],
 "metadata": {
  "kernelspec": {
   "display_name": "Python 3",
   "language": "python",
   "name": "python3"
  },
  "language_info": {
   "codemirror_mode": {
    "name": "ipython",
    "version": 3
   },
   "file_extension": ".py",
   "mimetype": "text/x-python",
   "name": "python",
   "nbconvert_exporter": "python",
   "pygments_lexer": "ipython3",
   "version": "3.8.8"
  }
 },
 "nbformat": 4,
 "nbformat_minor": 5
}
